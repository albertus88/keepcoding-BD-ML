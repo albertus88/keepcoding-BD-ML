{
 "cells": [
  {
   "cell_type": "markdown",
   "metadata": {},
   "source": [
    "# Practica de clasificacion ML"
   ]
  },
  {
   "cell_type": "code",
   "execution_count": 3,
   "metadata": {},
   "outputs": [],
   "source": [
    "# cargamos librerías necesarias\n",
    "import numpy  as np  \n",
    "import pandas as pd\n",
    "\n",
    "import matplotlib.pyplot as plt # para dibujar\n",
    "%matplotlib inline"
   ]
  },
  {
   "cell_type": "code",
   "execution_count": 4,
   "metadata": {
    "scrolled": true
   },
   "outputs": [
    {
     "data": {
      "text/html": [
       "<div>\n",
       "<style scoped>\n",
       "    .dataframe tbody tr th:only-of-type {\n",
       "        vertical-align: middle;\n",
       "    }\n",
       "\n",
       "    .dataframe tbody tr th {\n",
       "        vertical-align: top;\n",
       "    }\n",
       "\n",
       "    .dataframe thead th {\n",
       "        text-align: right;\n",
       "    }\n",
       "</style>\n",
       "<table border=\"1\" class=\"dataframe\">\n",
       "  <thead>\n",
       "    <tr style=\"text-align: right;\">\n",
       "      <th></th>\n",
       "      <th>id</th>\n",
       "      <th>age</th>\n",
       "      <th>workclass</th>\n",
       "      <th>education_level</th>\n",
       "      <th>education-num</th>\n",
       "      <th>marital-status</th>\n",
       "      <th>occupation</th>\n",
       "      <th>relationship</th>\n",
       "      <th>race</th>\n",
       "      <th>sex</th>\n",
       "      <th>capital-gain</th>\n",
       "      <th>capital-loss</th>\n",
       "      <th>hours-per-week</th>\n",
       "      <th>native-country</th>\n",
       "    </tr>\n",
       "  </thead>\n",
       "  <tbody>\n",
       "    <tr>\n",
       "      <th>0</th>\n",
       "      <td>0</td>\n",
       "      <td>28</td>\n",
       "      <td>Private</td>\n",
       "      <td>HS-grad</td>\n",
       "      <td>9.0</td>\n",
       "      <td>Never-married</td>\n",
       "      <td>Handlers-cleaners</td>\n",
       "      <td>Own-child</td>\n",
       "      <td>Black</td>\n",
       "      <td>Female</td>\n",
       "      <td>0.0</td>\n",
       "      <td>0.0</td>\n",
       "      <td>40.0</td>\n",
       "      <td>United-States</td>\n",
       "    </tr>\n",
       "    <tr>\n",
       "      <th>1</th>\n",
       "      <td>1</td>\n",
       "      <td>35</td>\n",
       "      <td>Private</td>\n",
       "      <td>HS-grad</td>\n",
       "      <td>9.0</td>\n",
       "      <td>Separated</td>\n",
       "      <td>Prof-specialty</td>\n",
       "      <td>Other-relative</td>\n",
       "      <td>Black</td>\n",
       "      <td>Female</td>\n",
       "      <td>0.0</td>\n",
       "      <td>0.0</td>\n",
       "      <td>40.0</td>\n",
       "      <td>United-States</td>\n",
       "    </tr>\n",
       "    <tr>\n",
       "      <th>2</th>\n",
       "      <td>2</td>\n",
       "      <td>33</td>\n",
       "      <td>Private</td>\n",
       "      <td>HS-grad</td>\n",
       "      <td>9.0</td>\n",
       "      <td>Married-civ-spouse</td>\n",
       "      <td>Craft-repair</td>\n",
       "      <td>Husband</td>\n",
       "      <td>White</td>\n",
       "      <td>Male</td>\n",
       "      <td>0.0</td>\n",
       "      <td>0.0</td>\n",
       "      <td>30.0</td>\n",
       "      <td>United-States</td>\n",
       "    </tr>\n",
       "    <tr>\n",
       "      <th>3</th>\n",
       "      <td>3</td>\n",
       "      <td>18</td>\n",
       "      <td>Private</td>\n",
       "      <td>HS-grad</td>\n",
       "      <td>9.0</td>\n",
       "      <td>Never-married</td>\n",
       "      <td>Sales</td>\n",
       "      <td>Not-in-family</td>\n",
       "      <td>White</td>\n",
       "      <td>Male</td>\n",
       "      <td>0.0</td>\n",
       "      <td>0.0</td>\n",
       "      <td>30.0</td>\n",
       "      <td>United-States</td>\n",
       "    </tr>\n",
       "    <tr>\n",
       "      <th>4</th>\n",
       "      <td>4</td>\n",
       "      <td>53</td>\n",
       "      <td>Private</td>\n",
       "      <td>Assoc-voc</td>\n",
       "      <td>11.0</td>\n",
       "      <td>Married-civ-spouse</td>\n",
       "      <td>Exec-managerial</td>\n",
       "      <td>Husband</td>\n",
       "      <td>White</td>\n",
       "      <td>Male</td>\n",
       "      <td>0.0</td>\n",
       "      <td>0.0</td>\n",
       "      <td>40.0</td>\n",
       "      <td>United-States</td>\n",
       "    </tr>\n",
       "  </tbody>\n",
       "</table>\n",
       "</div>"
      ],
      "text/plain": [
       "   id  age workclass education_level  education-num       marital-status  \\\n",
       "0   0   28   Private         HS-grad            9.0        Never-married   \n",
       "1   1   35   Private         HS-grad            9.0            Separated   \n",
       "2   2   33   Private         HS-grad            9.0   Married-civ-spouse   \n",
       "3   3   18   Private         HS-grad            9.0        Never-married   \n",
       "4   4   53   Private       Assoc-voc           11.0   Married-civ-spouse   \n",
       "\n",
       "           occupation     relationship    race      sex  capital-gain  \\\n",
       "0   Handlers-cleaners        Own-child   Black   Female           0.0   \n",
       "1      Prof-specialty   Other-relative   Black   Female           0.0   \n",
       "2        Craft-repair          Husband   White     Male           0.0   \n",
       "3               Sales    Not-in-family   White     Male           0.0   \n",
       "4     Exec-managerial          Husband   White     Male           0.0   \n",
       "\n",
       "   capital-loss  hours-per-week  native-country  \n",
       "0           0.0            40.0   United-States  \n",
       "1           0.0            40.0   United-States  \n",
       "2           0.0            30.0   United-States  \n",
       "3           0.0            30.0   United-States  \n",
       "4           0.0            40.0   United-States  "
      ]
     },
     "execution_count": 4,
     "metadata": {},
     "output_type": "execute_result"
    }
   ],
   "source": [
    "census_test = pd.read_csv(\"census_test.csv\") # cargamos fichero\n",
    "census_test.head(5)                                   # visualizamos 5 primeras filas\n"
   ]
  },
  {
   "cell_type": "code",
   "execution_count": 5,
   "metadata": {},
   "outputs": [
    {
     "data": {
      "text/html": [
       "<div>\n",
       "<style scoped>\n",
       "    .dataframe tbody tr th:only-of-type {\n",
       "        vertical-align: middle;\n",
       "    }\n",
       "\n",
       "    .dataframe tbody tr th {\n",
       "        vertical-align: top;\n",
       "    }\n",
       "\n",
       "    .dataframe thead th {\n",
       "        text-align: right;\n",
       "    }\n",
       "</style>\n",
       "<table border=\"1\" class=\"dataframe\">\n",
       "  <thead>\n",
       "    <tr style=\"text-align: right;\">\n",
       "      <th></th>\n",
       "      <th>age</th>\n",
       "      <th>workclass</th>\n",
       "      <th>education_level</th>\n",
       "      <th>education-num</th>\n",
       "      <th>marital-status</th>\n",
       "      <th>occupation</th>\n",
       "      <th>relationship</th>\n",
       "      <th>race</th>\n",
       "      <th>sex</th>\n",
       "      <th>capital-gain</th>\n",
       "      <th>capital-loss</th>\n",
       "      <th>hours-per-week</th>\n",
       "      <th>native-country</th>\n",
       "      <th>income</th>\n",
       "    </tr>\n",
       "  </thead>\n",
       "  <tbody>\n",
       "    <tr>\n",
       "      <th>0</th>\n",
       "      <td>49</td>\n",
       "      <td>Private</td>\n",
       "      <td>Masters</td>\n",
       "      <td>14.0</td>\n",
       "      <td>Divorced</td>\n",
       "      <td>Sales</td>\n",
       "      <td>Unmarried</td>\n",
       "      <td>Other</td>\n",
       "      <td>Female</td>\n",
       "      <td>0.0</td>\n",
       "      <td>0.0</td>\n",
       "      <td>20.0</td>\n",
       "      <td>Peru</td>\n",
       "      <td>&lt;=50K</td>\n",
       "    </tr>\n",
       "    <tr>\n",
       "      <th>1</th>\n",
       "      <td>43</td>\n",
       "      <td>Private</td>\n",
       "      <td>Assoc-acdm</td>\n",
       "      <td>12.0</td>\n",
       "      <td>Divorced</td>\n",
       "      <td>Craft-repair</td>\n",
       "      <td>Not-in-family</td>\n",
       "      <td>White</td>\n",
       "      <td>Male</td>\n",
       "      <td>0.0</td>\n",
       "      <td>0.0</td>\n",
       "      <td>40.0</td>\n",
       "      <td>United-States</td>\n",
       "      <td>&lt;=50K</td>\n",
       "    </tr>\n",
       "    <tr>\n",
       "      <th>2</th>\n",
       "      <td>53</td>\n",
       "      <td>Private</td>\n",
       "      <td>Doctorate</td>\n",
       "      <td>16.0</td>\n",
       "      <td>Married-civ-spouse</td>\n",
       "      <td>Prof-specialty</td>\n",
       "      <td>Wife</td>\n",
       "      <td>White</td>\n",
       "      <td>Female</td>\n",
       "      <td>99999.0</td>\n",
       "      <td>0.0</td>\n",
       "      <td>37.0</td>\n",
       "      <td>United-States</td>\n",
       "      <td>&gt;50K</td>\n",
       "    </tr>\n",
       "    <tr>\n",
       "      <th>3</th>\n",
       "      <td>23</td>\n",
       "      <td>Private</td>\n",
       "      <td>HS-grad</td>\n",
       "      <td>9.0</td>\n",
       "      <td>Married-civ-spouse</td>\n",
       "      <td>Adm-clerical</td>\n",
       "      <td>Wife</td>\n",
       "      <td>White</td>\n",
       "      <td>Female</td>\n",
       "      <td>3908.0</td>\n",
       "      <td>0.0</td>\n",
       "      <td>40.0</td>\n",
       "      <td>United-States</td>\n",
       "      <td>&lt;=50K</td>\n",
       "    </tr>\n",
       "    <tr>\n",
       "      <th>4</th>\n",
       "      <td>32</td>\n",
       "      <td>Private</td>\n",
       "      <td>Some-college</td>\n",
       "      <td>10.0</td>\n",
       "      <td>Divorced</td>\n",
       "      <td>Handlers-cleaners</td>\n",
       "      <td>Unmarried</td>\n",
       "      <td>Black</td>\n",
       "      <td>Male</td>\n",
       "      <td>0.0</td>\n",
       "      <td>0.0</td>\n",
       "      <td>40.0</td>\n",
       "      <td>Nicaragua</td>\n",
       "      <td>&lt;=50K</td>\n",
       "    </tr>\n",
       "  </tbody>\n",
       "</table>\n",
       "</div>"
      ],
      "text/plain": [
       "   age workclass education_level  education-num       marital-status  \\\n",
       "0   49   Private         Masters           14.0             Divorced   \n",
       "1   43   Private      Assoc-acdm           12.0             Divorced   \n",
       "2   53   Private       Doctorate           16.0   Married-civ-spouse   \n",
       "3   23   Private         HS-grad            9.0   Married-civ-spouse   \n",
       "4   32   Private    Some-college           10.0             Divorced   \n",
       "\n",
       "           occupation    relationship    race      sex  capital-gain  \\\n",
       "0               Sales       Unmarried   Other   Female           0.0   \n",
       "1        Craft-repair   Not-in-family   White     Male           0.0   \n",
       "2      Prof-specialty            Wife   White   Female       99999.0   \n",
       "3        Adm-clerical            Wife   White   Female        3908.0   \n",
       "4   Handlers-cleaners       Unmarried   Black     Male           0.0   \n",
       "\n",
       "   capital-loss  hours-per-week  native-country income  \n",
       "0           0.0            20.0            Peru  <=50K  \n",
       "1           0.0            40.0   United-States  <=50K  \n",
       "2           0.0            37.0   United-States   >50K  \n",
       "3           0.0            40.0   United-States  <=50K  \n",
       "4           0.0            40.0       Nicaragua  <=50K  "
      ]
     },
     "execution_count": 5,
     "metadata": {},
     "output_type": "execute_result"
    }
   ],
   "source": [
    "\n",
    "census_train = pd.read_csv(\"census_train.csv\")\n",
    "\n",
    "census_train.head(5)"
   ]
  },
  {
   "cell_type": "code",
   "execution_count": 6,
   "metadata": {},
   "outputs": [
    {
     "data": {
      "text/plain": [
       "age                 True\n",
       "workclass          False\n",
       "education_level    False\n",
       "education-num       True\n",
       "marital-status     False\n",
       "occupation         False\n",
       "relationship       False\n",
       "race               False\n",
       "sex                False\n",
       "capital-gain        True\n",
       "capital-loss        True\n",
       "hours-per-week      True\n",
       "native-country     False\n",
       "income             False\n",
       "dtype: bool"
      ]
     },
     "execution_count": 6,
     "metadata": {},
     "output_type": "execute_result"
    }
   ],
   "source": [
    "census_train.dtypes != 'object'"
   ]
  },
  {
   "cell_type": "markdown",
   "metadata": {},
   "source": [
    "Primero de todo vamos a transformar las variables object a \n",
    "variables numericas\n"
   ]
  },
  {
   "cell_type": "code",
   "execution_count": 7,
   "metadata": {
    "scrolled": true
   },
   "outputs": [
    {
     "data": {
      "text/html": [
       "<div>\n",
       "<style scoped>\n",
       "    .dataframe tbody tr th:only-of-type {\n",
       "        vertical-align: middle;\n",
       "    }\n",
       "\n",
       "    .dataframe tbody tr th {\n",
       "        vertical-align: top;\n",
       "    }\n",
       "\n",
       "    .dataframe thead th {\n",
       "        text-align: right;\n",
       "    }\n",
       "</style>\n",
       "<table border=\"1\" class=\"dataframe\">\n",
       "  <thead>\n",
       "    <tr style=\"text-align: right;\">\n",
       "      <th></th>\n",
       "      <th>age</th>\n",
       "      <th>workclass</th>\n",
       "      <th>education_level</th>\n",
       "      <th>education-num</th>\n",
       "      <th>marital-status</th>\n",
       "      <th>occupation</th>\n",
       "      <th>relationship</th>\n",
       "      <th>race</th>\n",
       "      <th>sex</th>\n",
       "      <th>capital-gain</th>\n",
       "      <th>capital-loss</th>\n",
       "      <th>hours-per-week</th>\n",
       "      <th>native-country</th>\n",
       "      <th>income</th>\n",
       "    </tr>\n",
       "  </thead>\n",
       "  <tbody>\n",
       "    <tr>\n",
       "      <th>0</th>\n",
       "      <td>49</td>\n",
       "      <td>2</td>\n",
       "      <td>12</td>\n",
       "      <td>14.0</td>\n",
       "      <td>0</td>\n",
       "      <td>11</td>\n",
       "      <td>4</td>\n",
       "      <td>3</td>\n",
       "      <td>0</td>\n",
       "      <td>0.0</td>\n",
       "      <td>0.0</td>\n",
       "      <td>20.0</td>\n",
       "      <td>28</td>\n",
       "      <td>0</td>\n",
       "    </tr>\n",
       "    <tr>\n",
       "      <th>1</th>\n",
       "      <td>43</td>\n",
       "      <td>2</td>\n",
       "      <td>7</td>\n",
       "      <td>12.0</td>\n",
       "      <td>0</td>\n",
       "      <td>2</td>\n",
       "      <td>1</td>\n",
       "      <td>4</td>\n",
       "      <td>1</td>\n",
       "      <td>0.0</td>\n",
       "      <td>0.0</td>\n",
       "      <td>40.0</td>\n",
       "      <td>38</td>\n",
       "      <td>0</td>\n",
       "    </tr>\n",
       "    <tr>\n",
       "      <th>2</th>\n",
       "      <td>53</td>\n",
       "      <td>2</td>\n",
       "      <td>10</td>\n",
       "      <td>16.0</td>\n",
       "      <td>2</td>\n",
       "      <td>9</td>\n",
       "      <td>5</td>\n",
       "      <td>4</td>\n",
       "      <td>0</td>\n",
       "      <td>99999.0</td>\n",
       "      <td>0.0</td>\n",
       "      <td>37.0</td>\n",
       "      <td>38</td>\n",
       "      <td>1</td>\n",
       "    </tr>\n",
       "    <tr>\n",
       "      <th>3</th>\n",
       "      <td>23</td>\n",
       "      <td>2</td>\n",
       "      <td>11</td>\n",
       "      <td>9.0</td>\n",
       "      <td>2</td>\n",
       "      <td>0</td>\n",
       "      <td>5</td>\n",
       "      <td>4</td>\n",
       "      <td>0</td>\n",
       "      <td>3908.0</td>\n",
       "      <td>0.0</td>\n",
       "      <td>40.0</td>\n",
       "      <td>38</td>\n",
       "      <td>0</td>\n",
       "    </tr>\n",
       "    <tr>\n",
       "      <th>4</th>\n",
       "      <td>32</td>\n",
       "      <td>2</td>\n",
       "      <td>15</td>\n",
       "      <td>10.0</td>\n",
       "      <td>0</td>\n",
       "      <td>5</td>\n",
       "      <td>4</td>\n",
       "      <td>2</td>\n",
       "      <td>1</td>\n",
       "      <td>0.0</td>\n",
       "      <td>0.0</td>\n",
       "      <td>40.0</td>\n",
       "      <td>26</td>\n",
       "      <td>0</td>\n",
       "    </tr>\n",
       "  </tbody>\n",
       "</table>\n",
       "</div>"
      ],
      "text/plain": [
       "   age  workclass  education_level  education-num  marital-status  occupation  \\\n",
       "0   49          2               12           14.0               0          11   \n",
       "1   43          2                7           12.0               0           2   \n",
       "2   53          2               10           16.0               2           9   \n",
       "3   23          2               11            9.0               2           0   \n",
       "4   32          2               15           10.0               0           5   \n",
       "\n",
       "   relationship  race  sex  capital-gain  capital-loss  hours-per-week  \\\n",
       "0             4     3    0           0.0           0.0            20.0   \n",
       "1             1     4    1           0.0           0.0            40.0   \n",
       "2             5     4    0       99999.0           0.0            37.0   \n",
       "3             5     4    0        3908.0           0.0            40.0   \n",
       "4             4     2    1           0.0           0.0            40.0   \n",
       "\n",
       "   native-country  income  \n",
       "0              28       0  \n",
       "1              38       0  \n",
       "2              38       1  \n",
       "3              38       0  \n",
       "4              26       0  "
      ]
     },
     "execution_count": 7,
     "metadata": {},
     "output_type": "execute_result"
    }
   ],
   "source": [
    "from sklearn import preprocessing\n",
    "le = preprocessing.LabelEncoder()\n",
    "\n",
    "census_train_copy = census_train\n",
    "\n",
    "le.fit(census_train_copy['workclass'])\n",
    "\n",
    "census_train_copy['workclass'] = le.transform(census_train_copy['workclass'])\n",
    "\n",
    "le.fit(census_train_copy['education_level'])\n",
    "\n",
    "census_train_copy['education_level'] = le.transform(census_train_copy['education_level'])\n",
    "\n",
    "le.fit(census_train_copy['marital-status'])\n",
    "\n",
    "census_train_copy['marital-status'] = le.transform(census_train_copy['marital-status'])\n",
    "\n",
    "le.fit(census_train_copy['occupation'])\n",
    "\n",
    "census_train_copy['occupation'] = le.transform(census_train_copy['occupation'])\n",
    "\n",
    "le.fit(census_train_copy['relationship'])\n",
    "\n",
    "census_train_copy['relationship'] = le.transform(census_train_copy['relationship'])\n",
    "\n",
    "le.fit(census_train_copy['race'])\n",
    "\n",
    "census_train_copy['race'] = le.transform(census_train_copy['race'])\n",
    "\n",
    "le.fit(census_train_copy['sex'])\n",
    "\n",
    "census_train_copy['sex'] = le.transform(census_train_copy['sex'])\n",
    "\n",
    "le.fit(census_train_copy['native-country'])\n",
    "\n",
    "census_train_copy['native-country'] = le.transform(census_train_copy['native-country'])\n",
    "\n",
    "le.fit(census_train_copy['income'])\n",
    "\n",
    "census_train_copy['income'] = le.transform(census_train_copy['income'])\n",
    "\n",
    "census_train_copy.head(5)"
   ]
  },
  {
   "cell_type": "code",
   "execution_count": 8,
   "metadata": {
    "scrolled": true
   },
   "outputs": [
    {
     "data": {
      "text/plain": [
       "age                True\n",
       "workclass          True\n",
       "education_level    True\n",
       "education-num      True\n",
       "marital-status     True\n",
       "occupation         True\n",
       "relationship       True\n",
       "race               True\n",
       "sex                True\n",
       "capital-gain       True\n",
       "capital-loss       True\n",
       "hours-per-week     True\n",
       "native-country     True\n",
       "income             True\n",
       "dtype: bool"
      ]
     },
     "execution_count": 8,
     "metadata": {},
     "output_type": "execute_result"
    }
   ],
   "source": [
    "census_train.dtypes != 'object'"
   ]
  },
  {
   "cell_type": "markdown",
   "metadata": {},
   "source": [
    "Analizaremos como estan distribuidas las muestras para income"
   ]
  },
  {
   "cell_type": "code",
   "execution_count": 9,
   "metadata": {},
   "outputs": [
    {
     "data": {
      "text/plain": [
       "0    0.752163\n",
       "1    0.247837\n",
       "Name: income, dtype: float64"
      ]
     },
     "execution_count": 9,
     "metadata": {},
     "output_type": "execute_result"
    }
   ],
   "source": [
    "census_train_copy['income'].value_counts() / census_train_copy.shape[0]"
   ]
  },
  {
   "cell_type": "markdown",
   "metadata": {},
   "source": [
    "Las variables no estan bien distribuidas por lo tanto en el momento de entrenar deberemos estratificar los datos. \n",
    "\n",
    "Seguidamente pasaremos a mirar datos anomalos como outliers.\n",
    "\n",
    "Y despues pasemos a mirar la correlacion entre las variables independientes.\n",
    "\n"
   ]
  },
  {
   "cell_type": "code",
   "execution_count": 10,
   "metadata": {},
   "outputs": [
    {
     "data": {
      "text/html": [
       "<div>\n",
       "<style scoped>\n",
       "    .dataframe tbody tr th:only-of-type {\n",
       "        vertical-align: middle;\n",
       "    }\n",
       "\n",
       "    .dataframe tbody tr th {\n",
       "        vertical-align: top;\n",
       "    }\n",
       "\n",
       "    .dataframe thead th {\n",
       "        text-align: right;\n",
       "    }\n",
       "</style>\n",
       "<table border=\"1\" class=\"dataframe\">\n",
       "  <thead>\n",
       "    <tr style=\"text-align: right;\">\n",
       "      <th></th>\n",
       "      <th>count</th>\n",
       "      <th>mean</th>\n",
       "      <th>std</th>\n",
       "      <th>min</th>\n",
       "      <th>25%</th>\n",
       "      <th>50%</th>\n",
       "      <th>75%</th>\n",
       "      <th>max</th>\n",
       "    </tr>\n",
       "  </thead>\n",
       "  <tbody>\n",
       "    <tr>\n",
       "      <th>age</th>\n",
       "      <td>36177.0</td>\n",
       "      <td>38.598751</td>\n",
       "      <td>13.229011</td>\n",
       "      <td>17.0</td>\n",
       "      <td>28.0</td>\n",
       "      <td>37.0</td>\n",
       "      <td>47.0</td>\n",
       "      <td>90.0</td>\n",
       "    </tr>\n",
       "    <tr>\n",
       "      <th>workclass</th>\n",
       "      <td>36177.0</td>\n",
       "      <td>2.205877</td>\n",
       "      <td>0.963834</td>\n",
       "      <td>0.0</td>\n",
       "      <td>2.0</td>\n",
       "      <td>2.0</td>\n",
       "      <td>2.0</td>\n",
       "      <td>6.0</td>\n",
       "    </tr>\n",
       "    <tr>\n",
       "      <th>education_level</th>\n",
       "      <td>36177.0</td>\n",
       "      <td>10.314786</td>\n",
       "      <td>3.824565</td>\n",
       "      <td>0.0</td>\n",
       "      <td>9.0</td>\n",
       "      <td>11.0</td>\n",
       "      <td>12.0</td>\n",
       "      <td>15.0</td>\n",
       "    </tr>\n",
       "    <tr>\n",
       "      <th>education-num</th>\n",
       "      <td>36177.0</td>\n",
       "      <td>10.113663</td>\n",
       "      <td>2.553911</td>\n",
       "      <td>1.0</td>\n",
       "      <td>9.0</td>\n",
       "      <td>10.0</td>\n",
       "      <td>13.0</td>\n",
       "      <td>16.0</td>\n",
       "    </tr>\n",
       "    <tr>\n",
       "      <th>marital-status</th>\n",
       "      <td>36177.0</td>\n",
       "      <td>2.579678</td>\n",
       "      <td>1.498088</td>\n",
       "      <td>0.0</td>\n",
       "      <td>2.0</td>\n",
       "      <td>2.0</td>\n",
       "      <td>4.0</td>\n",
       "      <td>6.0</td>\n",
       "    </tr>\n",
       "    <tr>\n",
       "      <th>occupation</th>\n",
       "      <td>36177.0</td>\n",
       "      <td>5.964701</td>\n",
       "      <td>4.026909</td>\n",
       "      <td>0.0</td>\n",
       "      <td>2.0</td>\n",
       "      <td>6.0</td>\n",
       "      <td>9.0</td>\n",
       "      <td>13.0</td>\n",
       "    </tr>\n",
       "    <tr>\n",
       "      <th>relationship</th>\n",
       "      <td>36177.0</td>\n",
       "      <td>1.408519</td>\n",
       "      <td>1.596411</td>\n",
       "      <td>0.0</td>\n",
       "      <td>0.0</td>\n",
       "      <td>1.0</td>\n",
       "      <td>3.0</td>\n",
       "      <td>5.0</td>\n",
       "    </tr>\n",
       "    <tr>\n",
       "      <th>race</th>\n",
       "      <td>36177.0</td>\n",
       "      <td>3.681842</td>\n",
       "      <td>0.830472</td>\n",
       "      <td>0.0</td>\n",
       "      <td>4.0</td>\n",
       "      <td>4.0</td>\n",
       "      <td>4.0</td>\n",
       "      <td>4.0</td>\n",
       "    </tr>\n",
       "    <tr>\n",
       "      <th>sex</th>\n",
       "      <td>36177.0</td>\n",
       "      <td>0.677088</td>\n",
       "      <td>0.467596</td>\n",
       "      <td>0.0</td>\n",
       "      <td>0.0</td>\n",
       "      <td>1.0</td>\n",
       "      <td>1.0</td>\n",
       "      <td>1.0</td>\n",
       "    </tr>\n",
       "    <tr>\n",
       "      <th>capital-gain</th>\n",
       "      <td>36177.0</td>\n",
       "      <td>1088.861735</td>\n",
       "      <td>7506.099972</td>\n",
       "      <td>0.0</td>\n",
       "      <td>0.0</td>\n",
       "      <td>0.0</td>\n",
       "      <td>0.0</td>\n",
       "      <td>99999.0</td>\n",
       "    </tr>\n",
       "    <tr>\n",
       "      <th>capital-loss</th>\n",
       "      <td>36177.0</td>\n",
       "      <td>88.133206</td>\n",
       "      <td>404.279205</td>\n",
       "      <td>0.0</td>\n",
       "      <td>0.0</td>\n",
       "      <td>0.0</td>\n",
       "      <td>0.0</td>\n",
       "      <td>4356.0</td>\n",
       "    </tr>\n",
       "    <tr>\n",
       "      <th>hours-per-week</th>\n",
       "      <td>36177.0</td>\n",
       "      <td>40.881582</td>\n",
       "      <td>11.981588</td>\n",
       "      <td>1.0</td>\n",
       "      <td>40.0</td>\n",
       "      <td>40.0</td>\n",
       "      <td>45.0</td>\n",
       "      <td>99.0</td>\n",
       "    </tr>\n",
       "    <tr>\n",
       "      <th>native-country</th>\n",
       "      <td>36177.0</td>\n",
       "      <td>36.404843</td>\n",
       "      <td>6.066464</td>\n",
       "      <td>0.0</td>\n",
       "      <td>38.0</td>\n",
       "      <td>38.0</td>\n",
       "      <td>38.0</td>\n",
       "      <td>40.0</td>\n",
       "    </tr>\n",
       "    <tr>\n",
       "      <th>income</th>\n",
       "      <td>36177.0</td>\n",
       "      <td>0.247837</td>\n",
       "      <td>0.431763</td>\n",
       "      <td>0.0</td>\n",
       "      <td>0.0</td>\n",
       "      <td>0.0</td>\n",
       "      <td>0.0</td>\n",
       "      <td>1.0</td>\n",
       "    </tr>\n",
       "  </tbody>\n",
       "</table>\n",
       "</div>"
      ],
      "text/plain": [
       "                   count         mean          std   min   25%   50%   75%  \\\n",
       "age              36177.0    38.598751    13.229011  17.0  28.0  37.0  47.0   \n",
       "workclass        36177.0     2.205877     0.963834   0.0   2.0   2.0   2.0   \n",
       "education_level  36177.0    10.314786     3.824565   0.0   9.0  11.0  12.0   \n",
       "education-num    36177.0    10.113663     2.553911   1.0   9.0  10.0  13.0   \n",
       "marital-status   36177.0     2.579678     1.498088   0.0   2.0   2.0   4.0   \n",
       "occupation       36177.0     5.964701     4.026909   0.0   2.0   6.0   9.0   \n",
       "relationship     36177.0     1.408519     1.596411   0.0   0.0   1.0   3.0   \n",
       "race             36177.0     3.681842     0.830472   0.0   4.0   4.0   4.0   \n",
       "sex              36177.0     0.677088     0.467596   0.0   0.0   1.0   1.0   \n",
       "capital-gain     36177.0  1088.861735  7506.099972   0.0   0.0   0.0   0.0   \n",
       "capital-loss     36177.0    88.133206   404.279205   0.0   0.0   0.0   0.0   \n",
       "hours-per-week   36177.0    40.881582    11.981588   1.0  40.0  40.0  45.0   \n",
       "native-country   36177.0    36.404843     6.066464   0.0  38.0  38.0  38.0   \n",
       "income           36177.0     0.247837     0.431763   0.0   0.0   0.0   0.0   \n",
       "\n",
       "                     max  \n",
       "age                 90.0  \n",
       "workclass            6.0  \n",
       "education_level     15.0  \n",
       "education-num       16.0  \n",
       "marital-status       6.0  \n",
       "occupation          13.0  \n",
       "relationship         5.0  \n",
       "race                 4.0  \n",
       "sex                  1.0  \n",
       "capital-gain     99999.0  \n",
       "capital-loss      4356.0  \n",
       "hours-per-week      99.0  \n",
       "native-country      40.0  \n",
       "income               1.0  "
      ]
     },
     "execution_count": 10,
     "metadata": {},
     "output_type": "execute_result"
    }
   ],
   "source": [
    "census_train_copy.describe().T"
   ]
  },
  {
   "cell_type": "markdown",
   "metadata": {},
   "source": [
    "Vemos como capital-gain tiene outliers por tanto pasemos a eliminarlos"
   ]
  },
  {
   "cell_type": "code",
   "execution_count": 17,
   "metadata": {
    "scrolled": true
   },
   "outputs": [
    {
     "data": {
      "text/plain": [
       "<matplotlib.axes._subplots.AxesSubplot at 0x272a5082978>"
      ]
     },
     "execution_count": 17,
     "metadata": {},
     "output_type": "execute_result"
    },
    {
     "data": {
      "image/png": "[encoded data removed]",
      "text/plain": [
       "<Figure size 432x288 with 1 Axes>"
      ]
     },
     "metadata": {
      "needs_background": "light"
     },
     "output_type": "display_data"
    }
   ],
   "source": [
    "census_train_copy_2.boxplot(column=['capital-gain'])"
   ]
  },
  {
   "cell_type": "code",
   "execution_count": 26,
   "metadata": {
    "scrolled": false
   },
   "outputs": [
    {
     "data": {
      "text/html": [
       "<div>\n",
       "<style scoped>\n",
       "    .dataframe tbody tr th:only-of-type {\n",
       "        vertical-align: middle;\n",
       "    }\n",
       "\n",
       "    .dataframe tbody tr th {\n",
       "        vertical-align: top;\n",
       "    }\n",
       "\n",
       "    .dataframe thead th {\n",
       "        text-align: right;\n",
       "    }\n",
       "</style>\n",
       "<table border=\"1\" class=\"dataframe\">\n",
       "  <thead>\n",
       "    <tr style=\"text-align: right;\">\n",
       "      <th></th>\n",
       "      <th>count</th>\n",
       "      <th>mean</th>\n",
       "      <th>std</th>\n",
       "      <th>min</th>\n",
       "      <th>25%</th>\n",
       "      <th>50%</th>\n",
       "      <th>75%</th>\n",
       "      <th>max</th>\n",
       "    </tr>\n",
       "  </thead>\n",
       "  <tbody>\n",
       "    <tr>\n",
       "      <th>age</th>\n",
       "      <td>33308.0</td>\n",
       "      <td>38.154948</td>\n",
       "      <td>13.196505</td>\n",
       "      <td>17.0</td>\n",
       "      <td>28.0</td>\n",
       "      <td>37.0</td>\n",
       "      <td>47.0</td>\n",
       "      <td>90.0</td>\n",
       "    </tr>\n",
       "    <tr>\n",
       "      <th>workclass</th>\n",
       "      <td>33308.0</td>\n",
       "      <td>2.202204</td>\n",
       "      <td>0.960085</td>\n",
       "      <td>0.0</td>\n",
       "      <td>2.0</td>\n",
       "      <td>2.0</td>\n",
       "      <td>2.0</td>\n",
       "      <td>6.0</td>\n",
       "    </tr>\n",
       "    <tr>\n",
       "      <th>education_level</th>\n",
       "      <td>33308.0</td>\n",
       "      <td>10.285937</td>\n",
       "      <td>3.878583</td>\n",
       "      <td>0.0</td>\n",
       "      <td>9.0</td>\n",
       "      <td>11.0</td>\n",
       "      <td>12.0</td>\n",
       "      <td>15.0</td>\n",
       "    </tr>\n",
       "    <tr>\n",
       "      <th>education-num</th>\n",
       "      <td>33308.0</td>\n",
       "      <td>10.024649</td>\n",
       "      <td>2.526568</td>\n",
       "      <td>1.0</td>\n",
       "      <td>9.0</td>\n",
       "      <td>10.0</td>\n",
       "      <td>12.0</td>\n",
       "      <td>16.0</td>\n",
       "    </tr>\n",
       "    <tr>\n",
       "      <th>marital-status</th>\n",
       "      <td>33308.0</td>\n",
       "      <td>2.609313</td>\n",
       "      <td>1.514226</td>\n",
       "      <td>0.0</td>\n",
       "      <td>2.0</td>\n",
       "      <td>2.0</td>\n",
       "      <td>4.0</td>\n",
       "      <td>6.0</td>\n",
       "    </tr>\n",
       "    <tr>\n",
       "      <th>occupation</th>\n",
       "      <td>33308.0</td>\n",
       "      <td>5.947190</td>\n",
       "      <td>4.030315</td>\n",
       "      <td>0.0</td>\n",
       "      <td>2.0</td>\n",
       "      <td>6.0</td>\n",
       "      <td>9.0</td>\n",
       "      <td>13.0</td>\n",
       "    </tr>\n",
       "    <tr>\n",
       "      <th>relationship</th>\n",
       "      <td>33308.0</td>\n",
       "      <td>1.448901</td>\n",
       "      <td>1.593344</td>\n",
       "      <td>0.0</td>\n",
       "      <td>0.0</td>\n",
       "      <td>1.0</td>\n",
       "      <td>3.0</td>\n",
       "      <td>5.0</td>\n",
       "    </tr>\n",
       "    <tr>\n",
       "      <th>race</th>\n",
       "      <td>33308.0</td>\n",
       "      <td>3.675453</td>\n",
       "      <td>0.836673</td>\n",
       "      <td>0.0</td>\n",
       "      <td>4.0</td>\n",
       "      <td>4.0</td>\n",
       "      <td>4.0</td>\n",
       "      <td>4.0</td>\n",
       "    </tr>\n",
       "    <tr>\n",
       "      <th>sex</th>\n",
       "      <td>33308.0</td>\n",
       "      <td>0.667918</td>\n",
       "      <td>0.470967</td>\n",
       "      <td>0.0</td>\n",
       "      <td>0.0</td>\n",
       "      <td>1.0</td>\n",
       "      <td>1.0</td>\n",
       "      <td>1.0</td>\n",
       "    </tr>\n",
       "    <tr>\n",
       "      <th>capital-gain</th>\n",
       "      <td>33308.0</td>\n",
       "      <td>3.101867</td>\n",
       "      <td>57.065946</td>\n",
       "      <td>0.0</td>\n",
       "      <td>0.0</td>\n",
       "      <td>0.0</td>\n",
       "      <td>0.0</td>\n",
       "      <td>1471.0</td>\n",
       "    </tr>\n",
       "    <tr>\n",
       "      <th>capital-loss</th>\n",
       "      <td>33308.0</td>\n",
       "      <td>95.724601</td>\n",
       "      <td>420.468212</td>\n",
       "      <td>0.0</td>\n",
       "      <td>0.0</td>\n",
       "      <td>0.0</td>\n",
       "      <td>0.0</td>\n",
       "      <td>4356.0</td>\n",
       "    </tr>\n",
       "    <tr>\n",
       "      <th>hours-per-week</th>\n",
       "      <td>33308.0</td>\n",
       "      <td>40.568572</td>\n",
       "      <td>11.984711</td>\n",
       "      <td>1.0</td>\n",
       "      <td>40.0</td>\n",
       "      <td>40.0</td>\n",
       "      <td>45.0</td>\n",
       "      <td>99.0</td>\n",
       "    </tr>\n",
       "    <tr>\n",
       "      <th>native-country</th>\n",
       "      <td>33308.0</td>\n",
       "      <td>36.386063</td>\n",
       "      <td>6.085767</td>\n",
       "      <td>0.0</td>\n",
       "      <td>38.0</td>\n",
       "      <td>38.0</td>\n",
       "      <td>38.0</td>\n",
       "      <td>40.0</td>\n",
       "    </tr>\n",
       "    <tr>\n",
       "      <th>income</th>\n",
       "      <td>33308.0</td>\n",
       "      <td>0.213612</td>\n",
       "      <td>0.409862</td>\n",
       "      <td>0.0</td>\n",
       "      <td>0.0</td>\n",
       "      <td>0.0</td>\n",
       "      <td>0.0</td>\n",
       "      <td>1.0</td>\n",
       "    </tr>\n",
       "  </tbody>\n",
       "</table>\n",
       "</div>"
      ],
      "text/plain": [
       "                   count       mean         std   min   25%   50%   75%  \\\n",
       "age              33308.0  38.154948   13.196505  17.0  28.0  37.0  47.0   \n",
       "workclass        33308.0   2.202204    0.960085   0.0   2.0   2.0   2.0   \n",
       "education_level  33308.0  10.285937    3.878583   0.0   9.0  11.0  12.0   \n",
       "education-num    33308.0  10.024649    2.526568   1.0   9.0  10.0  12.0   \n",
       "marital-status   33308.0   2.609313    1.514226   0.0   2.0   2.0   4.0   \n",
       "occupation       33308.0   5.947190    4.030315   0.0   2.0   6.0   9.0   \n",
       "relationship     33308.0   1.448901    1.593344   0.0   0.0   1.0   3.0   \n",
       "race             33308.0   3.675453    0.836673   0.0   4.0   4.0   4.0   \n",
       "sex              33308.0   0.667918    0.470967   0.0   0.0   1.0   1.0   \n",
       "capital-gain     33308.0   3.101867   57.065946   0.0   0.0   0.0   0.0   \n",
       "capital-loss     33308.0  95.724601  420.468212   0.0   0.0   0.0   0.0   \n",
       "hours-per-week   33308.0  40.568572   11.984711   1.0  40.0  40.0  45.0   \n",
       "native-country   33308.0  36.386063    6.085767   0.0  38.0  38.0  38.0   \n",
       "income           33308.0   0.213612    0.409862   0.0   0.0   0.0   0.0   \n",
       "\n",
       "                    max  \n",
       "age                90.0  \n",
       "workclass           6.0  \n",
       "education_level    15.0  \n",
       "education-num      16.0  \n",
       "marital-status      6.0  \n",
       "occupation         13.0  \n",
       "relationship        5.0  \n",
       "race                4.0  \n",
       "sex                 1.0  \n",
       "capital-gain     1471.0  \n",
       "capital-loss     4356.0  \n",
       "hours-per-week     99.0  \n",
       "native-country     40.0  \n",
       "income              1.0  "
      ]
     },
     "execution_count": 26,
     "metadata": {},
     "output_type": "execute_result"
    }
   ],
   "source": [
    "census_train_copy = census_train_copy[census_train_copy['capital-gain'] < 1000 * 1.5]\n",
    "census_train_copy.describe().T"
   ]
  },
  {
   "cell_type": "markdown",
   "metadata": {},
   "source": [
    "La idea de ese valor de outlier es debido a coger el Q3 de la media del primer describe"
   ]
  },
  {
   "cell_type": "code",
   "execution_count": 27,
   "metadata": {},
   "outputs": [
    {
     "name": "stderr",
     "output_type": "stream",
     "text": [
      "C:\\Users\\alberto\\Anaconda3\\lib\\site-packages\\ipykernel_launcher.py:10: DeprecationWarning: \n",
      ".ix is deprecated. Please use\n",
      ".loc for label based indexing or\n",
      ".iloc for positional indexing\n",
      "\n",
      "See the documentation here:\n",
      "http://pandas.pydata.org/pandas-docs/stable/indexing.html#ix-indexer-is-deprecated\n",
      "  # Remove the CWD from sys.path while we load stuff.\n",
      "C:\\Users\\alberto\\Anaconda3\\lib\\site-packages\\ipykernel_launcher.py:11: DeprecationWarning: \n",
      ".ix is deprecated. Please use\n",
      ".loc for label based indexing or\n",
      ".iloc for positional indexing\n",
      "\n",
      "See the documentation here:\n",
      "http://pandas.pydata.org/pandas-docs/stable/indexing.html#ix-indexer-is-deprecated\n",
      "  # This is added back by InteractiveShellApp.init_path()\n"
     ]
    },
    {
     "data": {
      "image/png": "[encoded data removed]",
      "text/plain": [
       "<Figure size 1440x1440 with 13 Axes>"
      ]
     },
     "metadata": {
      "needs_background": "light"
     },
     "output_type": "display_data"
    }
   ],
   "source": [
    "# Pintamos histogramas para cada clase\n",
    "plt.figure(figsize=(20,20))\n",
    "census_train_copy_cp = census_train_copy\n",
    "\n",
    "idx_0 =  census_train_copy_cp['income'] == 0\n",
    "idx_1 =  census_train_copy_cp['income'] == 1\n",
    "\n",
    "for i,feature in enumerate(census_train_copy_cp.columns.drop(['income'])):\n",
    "    plt.subplot(4,4,i+1)   \n",
    "    plt.hist(census_train_copy_cp.ix[idx_0,feature],density=1, alpha=0.75,label='y=0')\n",
    "    plt.hist(census_train_copy_cp.ix[idx_1,feature],density=1, facecolor='red', alpha=0.75,label='y=1')\n",
    "    plt.legend()\n",
    "    plt.title(feature)\n",
    "\n",
    "plt.show()"
   ]
  },
  {
   "cell_type": "markdown",
   "metadata": {},
   "source": [
    "Pasaremos ahora a analizar la correlacion entre variables"
   ]
  },
  {
   "cell_type": "code",
   "execution_count": 28,
   "metadata": {},
   "outputs": [
    {
     "data": {
      "image/png": "[encoded data removed]",
      "text/plain": [
       "<Figure size 864x720 with 2 Axes>"
      ]
     },
     "metadata": {
      "needs_background": "light"
     },
     "output_type": "display_data"
    }
   ],
   "source": [
    "import seaborn as sns\n",
    "\n",
    "# Compute the correlation matrix\n",
    "corr = np.abs(census_train_copy_cp.drop(['income'], axis=1).corr())\n",
    "\n",
    "# Generate a mask for the upper triangle\n",
    "mask = np.zeros_like(corr, dtype=np.bool)\n",
    "mask[np.triu_indices_from(mask)] = True\n",
    "\n",
    "# Set up the matplotlib figure\n",
    "f, ax = plt.subplots(figsize=(12, 10))\n",
    "\n",
    "# Draw the heatmap with the mask and correct aspect ratio\n",
    "sns.heatmap(corr, mask=mask,vmin = 0.0, vmax=1.0, center=0.5,\n",
    "            linewidths=.1, cmap=\"YlGnBu\", cbar_kws={\"shrink\": .8})\n",
    "\n",
    "plt.show()"
   ]
  },
  {
   "cell_type": "code",
   "execution_count": 29,
   "metadata": {},
   "outputs": [
    {
     "data": {
      "text/html": [
       "<div>\n",
       "<style scoped>\n",
       "    .dataframe tbody tr th:only-of-type {\n",
       "        vertical-align: middle;\n",
       "    }\n",
       "\n",
       "    .dataframe tbody tr th {\n",
       "        vertical-align: top;\n",
       "    }\n",
       "\n",
       "    .dataframe thead th {\n",
       "        text-align: right;\n",
       "    }\n",
       "</style>\n",
       "<table border=\"1\" class=\"dataframe\">\n",
       "  <thead>\n",
       "    <tr style=\"text-align: right;\">\n",
       "      <th></th>\n",
       "      <th>age</th>\n",
       "      <th>workclass</th>\n",
       "      <th>education_level</th>\n",
       "      <th>education-num</th>\n",
       "      <th>marital-status</th>\n",
       "      <th>occupation</th>\n",
       "      <th>relationship</th>\n",
       "      <th>race</th>\n",
       "      <th>sex</th>\n",
       "      <th>capital-gain</th>\n",
       "      <th>capital-loss</th>\n",
       "      <th>hours-per-week</th>\n",
       "      <th>native-country</th>\n",
       "      <th>income</th>\n",
       "    </tr>\n",
       "  </thead>\n",
       "  <tbody>\n",
       "    <tr>\n",
       "      <th>age</th>\n",
       "      <td>1.000000</td>\n",
       "      <td>0.082275</td>\n",
       "      <td>-0.003031</td>\n",
       "      <td>0.023981</td>\n",
       "      <td>-0.280916</td>\n",
       "      <td>-0.003842</td>\n",
       "      <td>-0.248873</td>\n",
       "      <td>0.019464</td>\n",
       "      <td>0.073958</td>\n",
       "      <td>0.012625</td>\n",
       "      <td>0.068254</td>\n",
       "      <td>0.106749</td>\n",
       "      <td>-0.002643</td>\n",
       "      <td>0.217067</td>\n",
       "    </tr>\n",
       "    <tr>\n",
       "      <th>workclass</th>\n",
       "      <td>0.082275</td>\n",
       "      <td>1.000000</td>\n",
       "      <td>0.015668</td>\n",
       "      <td>0.031871</td>\n",
       "      <td>-0.034752</td>\n",
       "      <td>0.018480</td>\n",
       "      <td>-0.061791</td>\n",
       "      <td>0.049031</td>\n",
       "      <td>0.068894</td>\n",
       "      <td>-0.005411</td>\n",
       "      <td>0.008989</td>\n",
       "      <td>0.046849</td>\n",
       "      <td>0.005821</td>\n",
       "      <td>0.011317</td>\n",
       "    </tr>\n",
       "    <tr>\n",
       "      <th>education_level</th>\n",
       "      <td>-0.003031</td>\n",
       "      <td>0.015668</td>\n",
       "      <td>1.000000</td>\n",
       "      <td>0.359507</td>\n",
       "      <td>-0.038725</td>\n",
       "      <td>-0.038383</td>\n",
       "      <td>-0.014523</td>\n",
       "      <td>0.008928</td>\n",
       "      <td>-0.028537</td>\n",
       "      <td>-0.022172</td>\n",
       "      <td>0.012404</td>\n",
       "      <td>0.064094</td>\n",
       "      <td>0.079526</td>\n",
       "      <td>0.077899</td>\n",
       "    </tr>\n",
       "    <tr>\n",
       "      <th>education-num</th>\n",
       "      <td>0.023981</td>\n",
       "      <td>0.031871</td>\n",
       "      <td>0.359507</td>\n",
       "      <td>1.000000</td>\n",
       "      <td>-0.059621</td>\n",
       "      <td>0.081284</td>\n",
       "      <td>-0.081692</td>\n",
       "      <td>0.029861</td>\n",
       "      <td>-0.007074</td>\n",
       "      <td>-0.019703</td>\n",
       "      <td>0.091234</td>\n",
       "      <td>0.136888</td>\n",
       "      <td>0.094515</td>\n",
       "      <td>0.310709</td>\n",
       "    </tr>\n",
       "    <tr>\n",
       "      <th>marital-status</th>\n",
       "      <td>-0.280916</td>\n",
       "      <td>-0.034752</td>\n",
       "      <td>-0.038725</td>\n",
       "      <td>-0.059621</td>\n",
       "      <td>1.000000</td>\n",
       "      <td>0.017823</td>\n",
       "      <td>0.185200</td>\n",
       "      <td>-0.068994</td>\n",
       "      <td>-0.114529</td>\n",
       "      <td>0.028226</td>\n",
       "      <td>-0.039077</td>\n",
       "      <td>-0.185449</td>\n",
       "      <td>-0.021025</td>\n",
       "      <td>-0.184183</td>\n",
       "    </tr>\n",
       "    <tr>\n",
       "      <th>occupation</th>\n",
       "      <td>-0.003842</td>\n",
       "      <td>0.018480</td>\n",
       "      <td>-0.038383</td>\n",
       "      <td>0.081284</td>\n",
       "      <td>0.017823</td>\n",
       "      <td>1.000000</td>\n",
       "      <td>-0.052852</td>\n",
       "      <td>0.001746</td>\n",
       "      <td>0.057984</td>\n",
       "      <td>0.006133</td>\n",
       "      <td>0.014897</td>\n",
       "      <td>0.017013</td>\n",
       "      <td>-0.000873</td>\n",
       "      <td>0.047706</td>\n",
       "    </tr>\n",
       "    <tr>\n",
       "      <th>relationship</th>\n",
       "      <td>-0.248873</td>\n",
       "      <td>-0.061791</td>\n",
       "      <td>-0.014523</td>\n",
       "      <td>-0.081692</td>\n",
       "      <td>0.185200</td>\n",
       "      <td>-0.052852</td>\n",
       "      <td>1.000000</td>\n",
       "      <td>-0.117414</td>\n",
       "      <td>-0.571285</td>\n",
       "      <td>0.034277</td>\n",
       "      <td>-0.065624</td>\n",
       "      <td>-0.256505</td>\n",
       "      <td>-0.006262</td>\n",
       "      <td>-0.247937</td>\n",
       "    </tr>\n",
       "    <tr>\n",
       "      <th>race</th>\n",
       "      <td>0.019464</td>\n",
       "      <td>0.049031</td>\n",
       "      <td>0.008928</td>\n",
       "      <td>0.029861</td>\n",
       "      <td>-0.068994</td>\n",
       "      <td>0.001746</td>\n",
       "      <td>-0.117414</td>\n",
       "      <td>1.000000</td>\n",
       "      <td>0.088094</td>\n",
       "      <td>-0.006554</td>\n",
       "      <td>0.021455</td>\n",
       "      <td>0.043204</td>\n",
       "      <td>0.117725</td>\n",
       "      <td>0.069005</td>\n",
       "    </tr>\n",
       "    <tr>\n",
       "      <th>sex</th>\n",
       "      <td>0.073958</td>\n",
       "      <td>0.068894</td>\n",
       "      <td>-0.028537</td>\n",
       "      <td>-0.007074</td>\n",
       "      <td>-0.114529</td>\n",
       "      <td>0.057984</td>\n",
       "      <td>-0.571285</td>\n",
       "      <td>0.088094</td>\n",
       "      <td>1.000000</td>\n",
       "      <td>-0.023952</td>\n",
       "      <td>0.053859</td>\n",
       "      <td>0.227300</td>\n",
       "      <td>-0.005863</td>\n",
       "      <td>0.207917</td>\n",
       "    </tr>\n",
       "    <tr>\n",
       "      <th>capital-gain</th>\n",
       "      <td>0.012625</td>\n",
       "      <td>-0.005411</td>\n",
       "      <td>-0.022172</td>\n",
       "      <td>-0.019703</td>\n",
       "      <td>0.028226</td>\n",
       "      <td>0.006133</td>\n",
       "      <td>0.034277</td>\n",
       "      <td>-0.006554</td>\n",
       "      <td>-0.023952</td>\n",
       "      <td>1.000000</td>\n",
       "      <td>-0.012375</td>\n",
       "      <td>-0.047475</td>\n",
       "      <td>-0.001509</td>\n",
       "      <td>-0.028330</td>\n",
       "    </tr>\n",
       "    <tr>\n",
       "      <th>capital-loss</th>\n",
       "      <td>0.068254</td>\n",
       "      <td>0.008989</td>\n",
       "      <td>0.012404</td>\n",
       "      <td>0.091234</td>\n",
       "      <td>-0.039077</td>\n",
       "      <td>0.014897</td>\n",
       "      <td>-0.065624</td>\n",
       "      <td>0.021455</td>\n",
       "      <td>0.053859</td>\n",
       "      <td>-0.012375</td>\n",
       "      <td>1.000000</td>\n",
       "      <td>0.062472</td>\n",
       "      <td>0.004173</td>\n",
       "      <td>0.182009</td>\n",
       "    </tr>\n",
       "    <tr>\n",
       "      <th>hours-per-week</th>\n",
       "      <td>0.106749</td>\n",
       "      <td>0.046849</td>\n",
       "      <td>0.064094</td>\n",
       "      <td>0.136888</td>\n",
       "      <td>-0.185449</td>\n",
       "      <td>0.017013</td>\n",
       "      <td>-0.256505</td>\n",
       "      <td>0.043204</td>\n",
       "      <td>0.227300</td>\n",
       "      <td>-0.047475</td>\n",
       "      <td>0.062472</td>\n",
       "      <td>1.000000</td>\n",
       "      <td>0.006910</td>\n",
       "      <td>0.220361</td>\n",
       "    </tr>\n",
       "    <tr>\n",
       "      <th>native-country</th>\n",
       "      <td>-0.002643</td>\n",
       "      <td>0.005821</td>\n",
       "      <td>0.079526</td>\n",
       "      <td>0.094515</td>\n",
       "      <td>-0.021025</td>\n",
       "      <td>-0.000873</td>\n",
       "      <td>-0.006262</td>\n",
       "      <td>0.117725</td>\n",
       "      <td>-0.005863</td>\n",
       "      <td>-0.001509</td>\n",
       "      <td>0.004173</td>\n",
       "      <td>0.006910</td>\n",
       "      <td>1.000000</td>\n",
       "      <td>0.015638</td>\n",
       "    </tr>\n",
       "    <tr>\n",
       "      <th>income</th>\n",
       "      <td>0.217067</td>\n",
       "      <td>0.011317</td>\n",
       "      <td>0.077899</td>\n",
       "      <td>0.310709</td>\n",
       "      <td>-0.184183</td>\n",
       "      <td>0.047706</td>\n",
       "      <td>-0.247937</td>\n",
       "      <td>0.069005</td>\n",
       "      <td>0.207917</td>\n",
       "      <td>-0.028330</td>\n",
       "      <td>0.182009</td>\n",
       "      <td>0.220361</td>\n",
       "      <td>0.015638</td>\n",
       "      <td>1.000000</td>\n",
       "    </tr>\n",
       "  </tbody>\n",
       "</table>\n",
       "</div>"
      ],
      "text/plain": [
       "                      age  workclass  education_level  education-num  \\\n",
       "age              1.000000   0.082275        -0.003031       0.023981   \n",
       "workclass        0.082275   1.000000         0.015668       0.031871   \n",
       "education_level -0.003031   0.015668         1.000000       0.359507   \n",
       "education-num    0.023981   0.031871         0.359507       1.000000   \n",
       "marital-status  -0.280916  -0.034752        -0.038725      -0.059621   \n",
       "occupation      -0.003842   0.018480        -0.038383       0.081284   \n",
       "relationship    -0.248873  -0.061791        -0.014523      -0.081692   \n",
       "race             0.019464   0.049031         0.008928       0.029861   \n",
       "sex              0.073958   0.068894        -0.028537      -0.007074   \n",
       "capital-gain     0.012625  -0.005411        -0.022172      -0.019703   \n",
       "capital-loss     0.068254   0.008989         0.012404       0.091234   \n",
       "hours-per-week   0.106749   0.046849         0.064094       0.136888   \n",
       "native-country  -0.002643   0.005821         0.079526       0.094515   \n",
       "income           0.217067   0.011317         0.077899       0.310709   \n",
       "\n",
       "                 marital-status  occupation  relationship      race       sex  \\\n",
       "age                   -0.280916   -0.003842     -0.248873  0.019464  0.073958   \n",
       "workclass             -0.034752    0.018480     -0.061791  0.049031  0.068894   \n",
       "education_level       -0.038725   -0.038383     -0.014523  0.008928 -0.028537   \n",
       "education-num         -0.059621    0.081284     -0.081692  0.029861 -0.007074   \n",
       "marital-status         1.000000    0.017823      0.185200 -0.068994 -0.114529   \n",
       "occupation             0.017823    1.000000     -0.052852  0.001746  0.057984   \n",
       "relationship           0.185200   -0.052852      1.000000 -0.117414 -0.571285   \n",
       "race                  -0.068994    0.001746     -0.117414  1.000000  0.088094   \n",
       "sex                   -0.114529    0.057984     -0.571285  0.088094  1.000000   \n",
       "capital-gain           0.028226    0.006133      0.034277 -0.006554 -0.023952   \n",
       "capital-loss          -0.039077    0.014897     -0.065624  0.021455  0.053859   \n",
       "hours-per-week        -0.185449    0.017013     -0.256505  0.043204  0.227300   \n",
       "native-country        -0.021025   -0.000873     -0.006262  0.117725 -0.005863   \n",
       "income                -0.184183    0.047706     -0.247937  0.069005  0.207917   \n",
       "\n",
       "                 capital-gain  capital-loss  hours-per-week  native-country  \\\n",
       "age                  0.012625      0.068254        0.106749       -0.002643   \n",
       "workclass           -0.005411      0.008989        0.046849        0.005821   \n",
       "education_level     -0.022172      0.012404        0.064094        0.079526   \n",
       "education-num       -0.019703      0.091234        0.136888        0.094515   \n",
       "marital-status       0.028226     -0.039077       -0.185449       -0.021025   \n",
       "occupation           0.006133      0.014897        0.017013       -0.000873   \n",
       "relationship         0.034277     -0.065624       -0.256505       -0.006262   \n",
       "race                -0.006554      0.021455        0.043204        0.117725   \n",
       "sex                 -0.023952      0.053859        0.227300       -0.005863   \n",
       "capital-gain         1.000000     -0.012375       -0.047475       -0.001509   \n",
       "capital-loss        -0.012375      1.000000        0.062472        0.004173   \n",
       "hours-per-week      -0.047475      0.062472        1.000000        0.006910   \n",
       "native-country      -0.001509      0.004173        0.006910        1.000000   \n",
       "income              -0.028330      0.182009        0.220361        0.015638   \n",
       "\n",
       "                   income  \n",
       "age              0.217067  \n",
       "workclass        0.011317  \n",
       "education_level  0.077899  \n",
       "education-num    0.310709  \n",
       "marital-status  -0.184183  \n",
       "occupation       0.047706  \n",
       "relationship    -0.247937  \n",
       "race             0.069005  \n",
       "sex              0.207917  \n",
       "capital-gain    -0.028330  \n",
       "capital-loss     0.182009  \n",
       "hours-per-week   0.220361  \n",
       "native-country   0.015638  \n",
       "income           1.000000  "
      ]
     },
     "execution_count": 29,
     "metadata": {},
     "output_type": "execute_result"
    }
   ],
   "source": [
    "census_train_copy_cp.corr() # matriz de correlación"
   ]
  },
  {
   "cell_type": "markdown",
   "metadata": {},
   "source": [
    "A pesar de que parece que sex con relationship pueda tener correlacion los valores no son los suficientemente altos, por tanto vemos como no hay una alta correlacion entre las variables. Pasemos a analizar si hay valores nulos"
   ]
  },
  {
   "cell_type": "code",
   "execution_count": 30,
   "metadata": {},
   "outputs": [
    {
     "data": {
      "text/plain": [
       "age                False\n",
       "workclass          False\n",
       "education_level    False\n",
       "education-num      False\n",
       "marital-status     False\n",
       "occupation         False\n",
       "relationship       False\n",
       "race               False\n",
       "sex                False\n",
       "capital-gain       False\n",
       "capital-loss       False\n",
       "hours-per-week     False\n",
       "native-country     False\n",
       "income             False\n",
       "dtype: bool"
      ]
     },
     "execution_count": 30,
     "metadata": {},
     "output_type": "execute_result"
    }
   ],
   "source": [
    "census_train_copy_cp.isnull().any()"
   ]
  },
  {
   "cell_type": "markdown",
   "metadata": {},
   "source": [
    "Una vez tenemos los datos limpios y hemos hecho un análisis exploratorio pasemos a analizar el mejor conjunto de características para poder entrenar nuestro modelo"
   ]
  },
  {
   "cell_type": "markdown",
   "metadata": {},
   "source": [
    "Primero de todo intentaremos hacer una busqueda de las variables mas importantes"
   ]
  },
  {
   "cell_type": "markdown",
   "metadata": {},
   "source": [
    "## Búsqueda de variables "
   ]
  },
  {
   "cell_type": "code",
   "execution_count": 33,
   "metadata": {},
   "outputs": [
    {
     "name": "stderr",
     "output_type": "stream",
     "text": [
      "C:\\Users\\alberto\\Anaconda3\\lib\\site-packages\\ipykernel_launcher.py:6: FutureWarning: Method .as_matrix will be removed in a future version. Use .values instead.\n",
      "  \n",
      "C:\\Users\\alberto\\Anaconda3\\lib\\site-packages\\sklearn\\utils\\validation.py:578: DataConversionWarning: A column-vector y was passed when a 1d array was expected. Please change the shape of y to (n_samples, ), for example using ravel().\n",
      "  y = column_or_1d(y, warn=True)\n",
      "C:\\Users\\alberto\\Anaconda3\\lib\\site-packages\\sklearn\\utils\\validation.py:578: DataConversionWarning: A column-vector y was passed when a 1d array was expected. Please change the shape of y to (n_samples, ), for example using ravel().\n",
      "  y = column_or_1d(y, warn=True)\n"
     ]
    },
    {
     "data": {
      "image/png": "[encoded data removed]",
      "text/plain": [
       "<Figure size 1440x360 with 2 Axes>"
      ]
     },
     "metadata": {
      "needs_background": "light"
     },
     "output_type": "display_data"
    }
   ],
   "source": [
    "import numpy as np\n",
    "import matplotlib.pyplot as plt\n",
    "from sklearn.feature_selection import f_regression, mutual_info_regression\n",
    "\n",
    "# convertimos el DataFrame al formato necesario para scikit-learn\n",
    "data = census_train_copy_cp.as_matrix() \n",
    "\n",
    "y = data[:,13:14]     # nos quedamos con la columna income\n",
    "X = data[:,0:13]      # nos quedamos con el resto\n",
    "\n",
    "feature_names = census_train_copy_cp.columns[0:13]\n",
    "\n",
    "\n",
    "# do calculations\n",
    "f_test, _ = f_regression(X, y)\n",
    "f_test /= np.max(f_test)\n",
    "\n",
    "mi = mutual_info_regression(X, y)\n",
    "mi /= np.max(mi)\n",
    "\n",
    "# do some plotting\n",
    "plt.figure(figsize=(20, 5))\n",
    "\n",
    "plt.subplot(1,2,1)\n",
    "plt.bar(range(X.shape[1]),f_test,  align=\"center\")\n",
    "plt.xticks(range(X.shape[1]),feature_names, rotation = 90)\n",
    "plt.xlabel('features')\n",
    "plt.ylabel('Ranking')\n",
    "plt.title('$R^2$ score')\n",
    "\n",
    "plt.subplot(1,2,2)\n",
    "plt.bar(range(X.shape[1]),mi, align=\"center\")\n",
    "plt.xticks(range(X.shape[1]),feature_names, rotation = 90)\n",
    "plt.xlabel('features')\n",
    "plt.ylabel('Ranking')\n",
    "plt.title('Mutual information score')\n",
    "\n",
    "plt.show()"
   ]
  },
  {
   "cell_type": "code",
   "execution_count": 34,
   "metadata": {},
   "outputs": [
    {
     "data": {
      "image/png": "[encoded data removed]",
      "text/plain": [
       "<Figure size 1440x360 with 1 Axes>"
      ]
     },
     "metadata": {
      "needs_background": "light"
     },
     "output_type": "display_data"
    }
   ],
   "source": [
    "mi_ranking = f_test*mi\n",
    "mi_ranking = mi_ranking / np.max(mi_ranking)\n",
    "\n",
    "plt.figure(figsize=(20, 5))\n",
    "plt.bar(range(X.shape[1]),mi_ranking, align=\"center\")\n",
    "plt.xticks(range(X.shape[1]),feature_names, rotation = 90)\n",
    "plt.xlabel('features')\n",
    "plt.ylabel('Ranking')\n",
    "plt.title('Mi Ranking')\n",
    "plt.show()"
   ]
  },
  {
   "cell_type": "markdown",
   "metadata": {},
   "source": [
    "A primera vista parece que es relevante la educacion-num, relationship, marital-status"
   ]
  },
  {
   "cell_type": "markdown",
   "metadata": {},
   "source": [
    "A partir de ahora analizaremos la matriz de confunsion en diferentes modelos con algoritmos de machine learning y miraremos las métricas cual es la que mejor se ajusta"
   ]
  },
  {
   "cell_type": "code",
   "execution_count": 35,
   "metadata": {},
   "outputs": [],
   "source": [
    "import numpy as np\n",
    "import pandas as pd\n",
    "\n",
    "import matplotlib.pyplot as plt\n",
    "from matplotlib.colors import ListedColormap\n",
    "%matplotlib inline\n",
    "\n",
    "cm = plt.cm.RdBu\n",
    "cm_bright = ListedColormap(['#FF0000', '#0000FF'])\n",
    "\n",
    "import warnings\n",
    "warnings.filterwarnings('ignore')"
   ]
  },
  {
   "cell_type": "code",
   "execution_count": 36,
   "metadata": {},
   "outputs": [],
   "source": [
    "def plot_confusion_matrix(confmat):\n",
    "    fig, ax = plt.subplots(figsize=(3, 3))\n",
    "    ax.matshow(confmat, cmap=plt.cm.Blues, alpha=0.5)\n",
    "    for i in range(confmat.shape[0]):\n",
    "        for j in range(confmat.shape[1]):\n",
    "            ax.text(x=j, y=i, s=confmat[i, j], va='center', ha='center')\n",
    "\n",
    "    plt.xlabel('predicted label')\n",
    "    plt.ylabel('true label')\n",
    "\n",
    "    plt.tight_layout()\n",
    "    plt.show()"
   ]
  },
  {
   "cell_type": "code",
   "execution_count": 37,
   "metadata": {},
   "outputs": [],
   "source": [
    "def calcula_metricas(confmat):\n",
    "    \n",
    "    tn, fp, fn, tp = confmat.ravel()\n",
    "\n",
    "    acc = (tp+tn)/(tn + fp + fn + tp)\n",
    "    sen = tp/(tp+fn)\n",
    "    esp = tn/(tn+fp)\n",
    "    ppv = tp/(tp+fp)\n",
    "    fsc = 2*(sen*ppv/(sen+ppv))\n",
    "\n",
    "    print('ACC: ', acc)\n",
    "    print('SEN: ', sen)\n",
    "    print('ESP: ', esp)\n",
    "    print('PPV: ', ppv)\n",
    "    print('FSC: ', fsc)\n",
    "    \n",
    "    plt.bar(range(5),[acc,sen,esp,ppv,fsc])\n",
    "    plt.xticks(range(5),['ACC','SEN','ESP','PPV','FSC'])\n",
    "    plt.plot([-1, 6], [1, 1], color=(0.6, 0.6, 0.6), linestyle='--')\n",
    "    plt.xlim((-0.5,4.5))\n",
    "    plt.ylim((0,1.1))\n",
    "    plt.title('Metricas')\n",
    "    plt.show()"
   ]
  },
  {
   "cell_type": "markdown",
   "metadata": {},
   "source": [
    "Separamos los datos primero de todo"
   ]
  },
  {
   "cell_type": "code",
   "execution_count": 38,
   "metadata": {},
   "outputs": [
    {
     "name": "stdout",
     "output_type": "stream",
     "text": [
      "Datos train:  (24981, 13)\n",
      "Datos test:   (8327, 13)\n",
      "Propocion train:0.214\n",
      "Propocion test: 0.214\n"
     ]
    }
   ],
   "source": [
    "from sklearn.model_selection import train_test_split\n",
    "from sklearn.preprocessing import StandardScaler\n",
    "\n",
    "# preparamos los datos\n",
    "census_train_copy_cp_clean = census_train_copy_cp\n",
    "\n",
    "columns_to_drop = ['income']\n",
    "features = census_train_copy_cp_clean.columns.drop(columns_to_drop)\n",
    "\n",
    "X = census_train_copy_cp_clean[features].values\n",
    "y = census_train_copy_cp_clean['income'].values\n",
    "\n",
    "\n",
    "# PASO 1:\n",
    "X_train, X_test, y_train, y_test = train_test_split(X, y, test_size = 0.25, stratify = y, shuffle= True, random_state=0)\n",
    "\n",
    "scaler = StandardScaler().fit(X_train)\n",
    "Xs_train = scaler.transform(X_train)\n",
    "Xs_test  = scaler.transform(X_test)\n",
    "\n",
    "print('Datos train: ', Xs_train.shape)\n",
    "print('Datos test:  ', Xs_test.shape)\n",
    "\n",
    "print('Propocion train:%0.3f'%np.mean(y_train))\n",
    "print('Propocion test: %0.3f'%np.mean(y_test))\n"
   ]
  },
  {
   "cell_type": "markdown",
   "metadata": {},
   "source": [
    "# Logistic regresion"
   ]
  },
  {
   "cell_type": "code",
   "execution_count": 44,
   "metadata": {},
   "outputs": [],
   "source": [
    "from sklearn.linear_model import LogisticRegression\n",
    "\n",
    "lr = LogisticRegression(C = 1).fit(Xs_train,y_train)\n",
    "y_pred = lr.predict(Xs_train)"
   ]
  },
  {
   "cell_type": "code",
   "execution_count": 45,
   "metadata": {},
   "outputs": [
    {
     "data": {
      "text/plain": [
       "(array([0, 1], dtype=int64), array([19645,  5336], dtype=int64))"
      ]
     },
     "execution_count": 45,
     "metadata": {},
     "output_type": "execute_result"
    }
   ],
   "source": [
    "np.unique(y_train, return_counts=True)"
   ]
  },
  {
   "cell_type": "code",
   "execution_count": 46,
   "metadata": {},
   "outputs": [
    {
     "data": {
      "image/png": "[encoded data removed]",
      "text/plain": [
       "<Figure size 216x216 with 1 Axes>"
      ]
     },
     "metadata": {
      "needs_background": "light"
     },
     "output_type": "display_data"
    }
   ],
   "source": [
    "from sklearn.metrics import confusion_matrix\n",
    "\n",
    "confmat = confusion_matrix(y_train,y_pred)\n",
    "plot_confusion_matrix(confmat)\n",
    "\n",
    "# Podemos acceder a los valores de la matriz\n",
    "tn, fp, fn, tp = confusion_matrix(y_train,y_pred).ravel()"
   ]
  },
  {
   "cell_type": "code",
   "execution_count": 47,
   "metadata": {},
   "outputs": [
    {
     "name": "stdout",
     "output_type": "stream",
     "text": [
      "ACC:  0.8191025179136143\n",
      "SEN:  0.3476386806596702\n",
      "ESP:  0.9471621277678799\n",
      "PPV:  0.6412029035603181\n",
      "FSC:  0.4508445740673229\n"
     ]
    },
    {
     "data": {
      "image/png": "[encoded data removed]",
      "text/plain": [
       "<Figure size 432x288 with 1 Axes>"
      ]
     },
     "metadata": {
      "needs_background": "light"
     },
     "output_type": "display_data"
    }
   ],
   "source": [
    "calcula_metricas(confmat)"
   ]
  },
  {
   "cell_type": "code",
   "execution_count": 48,
   "metadata": {},
   "outputs": [
    {
     "name": "stdout",
     "output_type": "stream",
     "text": [
      "ACC:  0.8217845562627597\n",
      "SEN:  0.3372681281618887\n",
      "ESP:  0.9534208918753818\n",
      "PPV:  0.6629834254143646\n",
      "FSC:  0.44709388971684055\n"
     ]
    },
    {
     "data": {
      "image/png": "[encoded data removed]",
      "text/plain": [
       "<Figure size 432x288 with 1 Axes>"
      ]
     },
     "metadata": {
      "needs_background": "light"
     },
     "output_type": "display_data"
    }
   ],
   "source": [
    "y_pred_test = lr.predict(Xs_test)\n",
    "confmat_test = confusion_matrix(y_test,y_pred_test)\n",
    "calcula_metricas(confmat_test)"
   ]
  },
  {
   "cell_type": "code",
   "execution_count": 49,
   "metadata": {},
   "outputs": [
    {
     "data": {
      "image/png": "[encoded data removed]",
      "text/plain": [
       "<Figure size 432x288 with 1 Axes>"
      ]
     },
     "metadata": {
      "needs_background": "light"
     },
     "output_type": "display_data"
    }
   ],
   "source": [
    "y_prob = lr.predict_proba(Xs_test)[:,1]\n",
    "\n",
    "idx_0 = (y_test==0)\n",
    "idx_1 = (y_test==1)\n",
    "\n",
    "# your code here\n",
    "plt.hist(y_prob[idx_0],density=1, bins = 20, alpha=0.75,label='y=0')\n",
    "plt.hist(y_prob[idx_1],density=1, bins= 20, facecolor='red', alpha=0.75,label='y=1')\n",
    "plt.legend()\n",
    "plt.title('Probabilidad de $<=50k')\n",
    "plt.show()"
   ]
  },
  {
   "cell_type": "code",
   "execution_count": 50,
   "metadata": {},
   "outputs": [
    {
     "data": {
      "image/png": "[encoded data removed]",
      "text/plain": [
       "<Figure size 432x288 with 1 Axes>"
      ]
     },
     "metadata": {
      "needs_background": "light"
     },
     "output_type": "display_data"
    }
   ],
   "source": [
    "from sklearn.metrics import roc_curve, auc\n",
    "\n",
    "ejex, ejey, _ = roc_curve(y_test, y_prob)\n",
    "roc_auc = auc(ejex, ejey)\n",
    "\n",
    "plt.figure()\n",
    "plt.plot(ejex, ejey, color='darkorange',lw=2, label='AUC = %0.2f' % roc_auc)\n",
    "\n",
    "plt.plot([0, 1], [0, 1], color=(0.6, 0.6, 0.6), linestyle='--')\n",
    "plt.plot([0, 0, 1],[0, 1, 1],lw=2, linestyle=':',color='black',label='Clasificador perfecto')\n",
    "\n",
    "plt.xlim([-0.05, 1.05])\n",
    "plt.ylim([-0.05, 1.05])\n",
    "\n",
    "plt.xlabel('FPR (1-ESP)')\n",
    "plt.ylabel('SEN')\n",
    "plt.legend(loc=\"lower right\")\n",
    "plt.show()"
   ]
  },
  {
   "cell_type": "markdown",
   "metadata": {},
   "source": [
    "Ok, vemos como la accuracy no esta demasiado bien, es de un 0.85.\n",
    "En la probabilidad de ser 0 o 1 vemos mucho solapamiento por tanto podríamos tener muchos falsos positivos. Y la matriz de confusion el SEM es muy bajo\n",
    "\n",
    "Vamos a ver si con otros algoritmos nos acercamos más a 1 el AUC. Como por ejemplo una regresion logística pero modificando los pesos de error ya que es un conjunto desbalanceado.\n"
   ]
  },
  {
   "cell_type": "markdown",
   "metadata": {},
   "source": [
    "# Logistic regresion + update weight"
   ]
  },
  {
   "cell_type": "code",
   "execution_count": 51,
   "metadata": {},
   "outputs": [
    {
     "name": "stdout",
     "output_type": "stream",
     "text": [
      "best mean cross-validation score: 0.558\n",
      "best parameters: {'C': 0.015848931924611134}\n"
     ]
    },
    {
     "data": {
      "image/png": "[encoded data removed]",
      "text/plain": [
       "<Figure size 432x288 with 1 Axes>"
      ]
     },
     "metadata": {
      "needs_background": "light"
     },
     "output_type": "display_data"
    }
   ],
   "source": [
    "from sklearn.model_selection import GridSearchCV\n",
    "\n",
    "vectorC = np.logspace(-3,3,21)\n",
    "param_grid = {'C': vectorC }\n",
    "\n",
    "grid = GridSearchCV(LogisticRegression(random_state=0, class_weight='balanced'), #\n",
    "                    scoring='f1', # vosotros podéis probar a poner acc\n",
    "                    param_grid=param_grid, \n",
    "                    cv = 10)\n",
    "\n",
    "grid.fit(Xs_train, y_train)\n",
    "\n",
    "print(\"best mean cross-validation score: {:.3f}\".format(grid.best_score_))\n",
    "print(\"best parameters: {}\".format(grid.best_params_))\n",
    "\n",
    "scores = grid.cv_results_['mean_test_score']\n",
    "std_scores = grid.cv_results_['std_test_score']\n",
    "plt.errorbar(np.log10(vectorC),scores,yerr=std_scores, fmt='o-',ecolor='g')\n",
    "plt.xlabel('log(C)',fontsize=16)\n",
    "plt.ylabel('10-Fold F-score')\n",
    "plt.grid()\n",
    "plt.show()"
   ]
  },
  {
   "cell_type": "code",
   "execution_count": 56,
   "metadata": {},
   "outputs": [
    {
     "data": {
      "image/png": "[encoded data removed]",
      "text/plain": [
       "<Figure size 216x216 with 1 Axes>"
      ]
     },
     "metadata": {
      "needs_background": "light"
     },
     "output_type": "display_data"
    },
    {
     "name": "stdout",
     "output_type": "stream",
     "text": [
      "ACC:  0.7446859613306113\n",
      "SEN:  0.7611017425519955\n",
      "ESP:  0.7402260232131949\n",
      "PPV:  0.4432078559738134\n",
      "FSC:  0.5601985932974762\n"
     ]
    },
    {
     "data": {
      "image/png": "[encoded data removed]",
      "text/plain": [
       "<Figure size 432x288 with 1 Axes>"
      ]
     },
     "metadata": {
      "needs_background": "light"
     },
     "output_type": "display_data"
    }
   ],
   "source": [
    "from sklearn.metrics import confusion_matrix\n",
    "Copt = grid.best_params_['C']\n",
    "\n",
    "lr = LogisticRegression(random_state=0, C = Copt, class_weight='balanced').fit(Xs_train,y_train)\n",
    "y_pred = lr.predict(Xs_test)\n",
    "\n",
    "confmat_test  = confusion_matrix(y_test, y_pred)\n",
    "plot_confusion_matrix(confmat_test)\n",
    "calcula_metricas(confmat_test)"
   ]
  },
  {
   "cell_type": "code",
   "execution_count": 63,
   "metadata": {},
   "outputs": [
    {
     "data": {
      "image/png": "[encoded data removed]",
      "text/plain": [
       "<Figure size 432x288 with 1 Axes>"
      ]
     },
     "metadata": {
      "needs_background": "light"
     },
     "output_type": "display_data"
    }
   ],
   "source": [
    "y_prob = lr.predict_proba(Xs_test)[:,1]\n",
    "\n",
    "idx_0 = (y_test==0)\n",
    "idx_1 = (y_test==1)\n",
    "\n",
    "# your code here\n",
    "plt.hist(y_prob[idx_0], density = 1, label = 'y=0')\n",
    "plt.hist(y_prob[idx_1], density = 1, facecolor = 'r',alpha=0.6, label = 'y=1')\n",
    "plt.legend(loc=1)\n",
    "plt.show()"
   ]
  },
  {
   "cell_type": "code",
   "execution_count": 64,
   "metadata": {},
   "outputs": [
    {
     "data": {
      "image/png": "[encoded data removed]",
      "text/plain": [
       "<Figure size 432x288 with 1 Axes>"
      ]
     },
     "metadata": {
      "needs_background": "light"
     },
     "output_type": "display_data"
    }
   ],
   "source": [
    "from sklearn.metrics import roc_curve, auc\n",
    "\n",
    "ejex, ejey, _ = roc_curve(y_test, y_prob)\n",
    "roc_auc = auc(ejex, ejey)\n",
    "\n",
    "plt.figure()\n",
    "plt.plot(ejex, ejey, color='darkorange',lw=2, label='AUC = %0.2f' % roc_auc)\n",
    "\n",
    "plt.plot([0, 1], [0, 1], color=(0.6, 0.6, 0.6), linestyle='--')\n",
    "plt.plot([0, 0, 1],[0, 1, 1],lw=2, linestyle=':',color='black',label='Clasificador perfecto')\n",
    "\n",
    "plt.xlim([-0.05, 1.05])\n",
    "plt.ylim([-0.05, 1.05])\n",
    "\n",
    "plt.xlabel('FPR (1-ESP)')\n",
    "plt.ylabel('SEN')\n",
    "plt.legend(loc=\"lower right\")\n",
    "plt.show()"
   ]
  },
  {
   "cell_type": "markdown",
   "metadata": {},
   "source": [
    "SEN ha mejorado pero hemos sacrificado accuracy. No hemos mejorado, pasemos a utilizar árboles de decisión"
   ]
  },
  {
   "cell_type": "markdown",
   "metadata": {},
   "source": [
    "## Decision Tree classifier"
   ]
  },
  {
   "cell_type": "code",
   "execution_count": 65,
   "metadata": {},
   "outputs": [
    {
     "name": "stdout",
     "output_type": "stream",
     "text": [
      "best mean cross-validation score: 0.585\n",
      "best parameters: {'max_depth': 12}\n"
     ]
    },
    {
     "data": {
      "image/png": "[encoded data removed]",
      "text/plain": [
       "<Figure size 432x288 with 1 Axes>"
      ]
     },
     "metadata": {
      "needs_background": "light"
     },
     "output_type": "display_data"
    }
   ],
   "source": [
    "from sklearn.tree import DecisionTreeClassifier\n",
    "\n",
    "maxDepth = range(1,15)\n",
    "param_grid = {'max_depth': maxDepth}\n",
    "#param_grid = {'max_depth': maxDepth, 'class_weight' : [None,'balanced'] }\n",
    "grid = GridSearchCV(DecisionTreeClassifier(random_state=0), #\n",
    "                    scoring='f1', # vosotros podéis probar a poner acc\n",
    "                    param_grid=param_grid, \n",
    "                    cv = 10)\n",
    "\n",
    "grid.fit(Xs_train, y_train)\n",
    "\n",
    "print(\"best mean cross-validation score: {:.3f}\".format(grid.best_score_))\n",
    "print(\"best parameters: {}\".format(grid.best_params_))\n",
    "\n",
    "scores = grid.cv_results_['mean_test_score']\n",
    "std_scores = grid.cv_results_['std_test_score']\n",
    "plt.errorbar(maxDepth,scores,yerr=std_scores, fmt='o-',ecolor='g')\n",
    "plt.xlabel('log(C)',fontsize=16)\n",
    "plt.ylabel('10-Fold F-score')\n",
    "plt.grid()\n",
    "plt.show()"
   ]
  },
  {
   "cell_type": "code",
   "execution_count": 66,
   "metadata": {},
   "outputs": [
    {
     "data": {
      "image/png": "[encoded data removed]",
      "text/plain": [
       "<Figure size 216x216 with 1 Axes>"
      ]
     },
     "metadata": {
      "needs_background": "light"
     },
     "output_type": "display_data"
    },
    {
     "name": "stdout",
     "output_type": "stream",
     "text": [
      "ACC:  0.839918337936832\n",
      "SEN:  0.5216413715570545\n",
      "ESP:  0.9263897373243739\n",
      "PPV:  0.6581560283687943\n",
      "FSC:  0.5820006271558482\n"
     ]
    },
    {
     "data": {
      "image/png": "[encoded data removed]",
      "text/plain": [
       "<Figure size 432x288 with 1 Axes>"
      ]
     },
     "metadata": {
      "needs_background": "light"
     },
     "output_type": "display_data"
    }
   ],
   "source": [
    "max_depth_opt = grid.best_params_['max_depth']\n",
    "\n",
    "dt = DecisionTreeClassifier(random_state=0, max_depth = max_depth_opt).fit(Xs_train,y_train)\n",
    "y_pred = dt.predict(Xs_test)\n",
    "\n",
    "confmat_test  = confusion_matrix(y_test, y_pred)\n",
    "plot_confusion_matrix(confmat_test)\n",
    "calcula_metricas(confmat_test)"
   ]
  },
  {
   "cell_type": "code",
   "execution_count": 67,
   "metadata": {},
   "outputs": [
    {
     "data": {
      "image/png": "[encoded data removed]",
      "text/plain": [
       "<Figure size 432x288 with 1 Axes>"
      ]
     },
     "metadata": {
      "needs_background": "light"
     },
     "output_type": "display_data"
    }
   ],
   "source": [
    "y_prob = dt.predict_proba(Xs_test)[:,1]\n",
    "\n",
    "ejex, ejey, _ = roc_curve(y_test, y_prob)\n",
    "roc_auc = auc(ejex, ejey)\n",
    "\n",
    "plt.figure()\n",
    "plt.plot(ejex, ejey, color='darkorange',lw=2, label='AUC = %0.2f' % roc_auc)\n",
    "\n",
    "plt.plot([0, 1], [0, 1], color=(0.6, 0.6, 0.6), linestyle='--')\n",
    "plt.plot([0, 0, 1],[0, 1, 1],lw=2, linestyle=':',color='black',label='Clasificador perfecto')\n",
    "\n",
    "plt.xlim([-0.05, 1.05])\n",
    "plt.ylim([-0.05, 1.05])\n",
    "\n",
    "plt.xlabel('FPR (1-ESP)')\n",
    "plt.ylabel('SEN')\n",
    "plt.legend(loc=\"lower right\")\n",
    "plt.show()"
   ]
  },
  {
   "cell_type": "code",
   "execution_count": 68,
   "metadata": {},
   "outputs": [
    {
     "data": {
      "image/png": "[encoded data removed]",
      "text/plain": [
       "<Figure size 432x288 with 1 Axes>"
      ]
     },
     "metadata": {
      "needs_background": "light"
     },
     "output_type": "display_data"
    }
   ],
   "source": [
    "idx_0 = (y_test==0)\n",
    "idx_1 = (y_test==1)\n",
    "\n",
    "# your code here\n",
    "plt.hist(y_prob[idx_0], density = 1, label = 'y=0')\n",
    "plt.hist(y_prob[idx_1], density = 1, facecolor = 'r',alpha=0.6, label = 'y=1')\n",
    "plt.legend(loc=1)\n",
    "plt.show()"
   ]
  },
  {
   "cell_type": "code",
   "execution_count": 71,
   "metadata": {},
   "outputs": [
    {
     "ename": "ModuleNotFoundError",
     "evalue": "No module named 'graphviz'",
     "output_type": "error",
     "traceback": [
      "\u001b[1;31m---------------------------------------------------------------------------\u001b[0m",
      "\u001b[1;31mModuleNotFoundError\u001b[0m                       Traceback (most recent call last)",
      "\u001b[1;32m<ipython-input-71-0eb1f966403d>\u001b[0m in \u001b[0;36m<module>\u001b[1;34m()\u001b[0m\n\u001b[0;32m      1\u001b[0m \u001b[1;32mimport\u001b[0m \u001b[0mos\u001b[0m\u001b[1;33m\u001b[0m\u001b[0m\n\u001b[0;32m      2\u001b[0m \u001b[0mos\u001b[0m\u001b[1;33m.\u001b[0m\u001b[0menviron\u001b[0m\u001b[1;33m[\u001b[0m\u001b[1;34m\"PATH\"\u001b[0m\u001b[1;33m]\u001b[0m \u001b[1;33m+=\u001b[0m \u001b[0mos\u001b[0m\u001b[1;33m.\u001b[0m\u001b[0mpathsep\u001b[0m \u001b[1;33m+\u001b[0m \u001b[1;34m'C:/Program Files (x86)/Graphviz2.38/bin/'\u001b[0m\u001b[1;33m\u001b[0m\u001b[0m\n\u001b[1;32m----> 3\u001b[1;33m \u001b[1;32mimport\u001b[0m \u001b[0mgraphviz\u001b[0m\u001b[1;33m\u001b[0m\u001b[0m\n\u001b[0m\u001b[0;32m      4\u001b[0m \u001b[1;32mfrom\u001b[0m \u001b[0msklearn\u001b[0m\u001b[1;33m.\u001b[0m\u001b[0mtree\u001b[0m \u001b[1;32mimport\u001b[0m \u001b[0mexport_graphviz\u001b[0m\u001b[1;33m\u001b[0m\u001b[0m\n\u001b[0;32m      5\u001b[0m \u001b[1;33m\u001b[0m\u001b[0m\n",
      "\u001b[1;31mModuleNotFoundError\u001b[0m: No module named 'graphviz'"
     ]
    }
   ],
   "source": [
    "import os\n",
    "os.environ[\"PATH\"] += os.pathsep + 'C:/Program Files (x86)/Graphviz2.38/bin/'\n",
    "import graphviz\n",
    "from sklearn.tree import export_graphviz\n",
    "\n",
    "dot_data = export_graphviz(dt, out_file=None, \n",
    "                         feature_names=features,  \n",
    "                         filled=True, rounded=True,  \n",
    "                         special_characters=True)\n",
    "graph = graphviz.Source(dot_data) \n",
    "\n",
    "graph"
   ]
  },
  {
   "cell_type": "markdown",
   "metadata": {},
   "source": [
    "Hemos mejorado el accuracy y el SEM pero seguimos estando lejos de tener el SEM a un nivel decente. Y en la gráfica igualmente vemos como tambien se ha reducidor el número de falsos-positivos que podriamos obtener\n",
    "\n",
    "Pasemos a utilizar un algoritmo de random forest"
   ]
  },
  {
   "cell_type": "markdown",
   "metadata": {},
   "source": [
    "## Random forest classifier"
   ]
  },
  {
   "cell_type": "code",
   "execution_count": 72,
   "metadata": {},
   "outputs": [
    {
     "name": "stdout",
     "output_type": "stream",
     "text": [
      "best mean cross-validation score: 0.644\n",
      "best parameters: {'max_depth': 14}\n"
     ]
    },
    {
     "data": {
      "image/png": "[encoded data removed]",
      "text/plain": [
       "<Figure size 432x288 with 1 Axes>"
      ]
     },
     "metadata": {
      "needs_background": "light"
     },
     "output_type": "display_data"
    }
   ],
   "source": [
    "from sklearn.ensemble import RandomForestClassifier\n",
    "\n",
    "# grid search\n",
    "maxDepth   = range(1,15)\n",
    "param_grid = {'max_depth': maxDepth}\n",
    "\n",
    "#param_grid = {'max_depth': maxDepth, 'class_weight' : [None,'balanced'] }\n",
    "grid = GridSearchCV(RandomForestClassifier(random_state=0, \n",
    "                                           n_estimators = 200, \n",
    "                                           max_features = 'sqrt', \n",
    "                                           class_weight = 'balanced'), \n",
    "                    scoring='f1', # vosotros podéis probar a poner acc\n",
    "                    param_grid=param_grid, \n",
    "                    cv = 10)\n",
    "\n",
    "grid.fit(Xs_train, y_train)\n",
    "\n",
    "print(\"best mean cross-validation score: {:.3f}\".format(grid.best_score_))\n",
    "print(\"best parameters: {}\".format(grid.best_params_))\n",
    "\n",
    "scores = grid.cv_results_['mean_test_score']\n",
    "std_scores = grid.cv_results_['std_test_score']\n",
    "plt.errorbar(maxDepth,scores,yerr=std_scores, fmt='o-',ecolor='g')\n",
    "plt.xlabel('log(C)',fontsize=16)\n",
    "plt.ylabel('10-Fold F-score')\n",
    "plt.grid()\n",
    "plt.show()"
   ]
  },
  {
   "cell_type": "code",
   "execution_count": 73,
   "metadata": {},
   "outputs": [
    {
     "data": {
      "image/png": "[encoded data removed]",
      "text/plain": [
       "<Figure size 216x216 with 1 Axes>"
      ]
     },
     "metadata": {
      "needs_background": "light"
     },
     "output_type": "display_data"
    },
    {
     "name": "stdout",
     "output_type": "stream",
     "text": [
      "ACC:  0.8125375285216765\n",
      "SEN:  0.8004496908375491\n",
      "ESP:  0.8158216249236409\n",
      "PPV:  0.5414448669201521\n",
      "FSC:  0.6459514629167612\n"
     ]
    },
    {
     "data": {
      "image/png": "[encoded data removed]",
      "text/plain": [
       "<Figure size 432x288 with 1 Axes>"
      ]
     },
     "metadata": {
      "needs_background": "light"
     },
     "output_type": "display_data"
    }
   ],
   "source": [
    "max_depth_opt = grid.best_params_['max_depth']\n",
    "\n",
    "rf = RandomForestClassifier(random_state=0, \n",
    "                            max_depth = max_depth_opt, \n",
    "                            n_estimators = 200, \n",
    "                            max_features = 'sqrt', \n",
    "                            class_weight = 'balanced').fit(Xs_train,y_train)\n",
    "y_pred = rf.predict(Xs_test)\n",
    "\n",
    "confmat_test  = confusion_matrix(y_test, y_pred)\n",
    "plot_confusion_matrix(confmat_test)\n",
    "calcula_metricas(confmat_test)"
   ]
  },
  {
   "cell_type": "code",
   "execution_count": 74,
   "metadata": {},
   "outputs": [
    {
     "data": {
      "image/png": "[encoded data removed]",
      "text/plain": [
       "<Figure size 432x288 with 1 Axes>"
      ]
     },
     "metadata": {
      "needs_background": "light"
     },
     "output_type": "display_data"
    }
   ],
   "source": [
    "idx_0 = (y_test==0)\n",
    "idx_1 = (y_test==1)\n",
    "\n",
    "# your code here\n",
    "plt.hist(y_prob[idx_0], density = 1, label = 'y=0')\n",
    "plt.hist(y_prob[idx_1], density = 1, facecolor = 'r',alpha=0.6, label = 'y=1')\n",
    "plt.legend(loc=1)\n",
    "plt.show()"
   ]
  },
  {
   "cell_type": "code",
   "execution_count": 75,
   "metadata": {},
   "outputs": [
    {
     "data": {
      "image/png": "[encoded data removed]",
      "text/plain": [
       "<Figure size 432x288 with 1 Axes>"
      ]
     },
     "metadata": {
      "needs_background": "light"
     },
     "output_type": "display_data"
    }
   ],
   "source": [
    "y_prob = dt.predict_proba(Xs_test)[:,1]\n",
    "\n",
    "ejex, ejey, _ = roc_curve(y_test, y_prob)\n",
    "roc_auc = auc(ejex, ejey)\n",
    "\n",
    "plt.figure()\n",
    "plt.plot(ejex, ejey, color='darkorange',lw=2, label='AUC = %0.2f' % roc_auc)\n",
    "\n",
    "plt.plot([0, 1], [0, 1], color=(0.6, 0.6, 0.6), linestyle='--')\n",
    "plt.plot([0, 0, 1],[0, 1, 1],lw=2, linestyle=':',color='black',label='Clasificador perfecto')\n",
    "\n",
    "plt.xlim([-0.05, 1.05])\n",
    "plt.ylim([-0.05, 1.05])\n",
    "\n",
    "plt.xlabel('FPR (1-ESP)')\n",
    "plt.ylabel('SEN')\n",
    "plt.legend(loc=\"lower right\")\n",
    "plt.show()"
   ]
  },
  {
   "cell_type": "markdown",
   "metadata": {},
   "source": [
    "Con el random forest hemos mejorado el Accuracy y el SEM por tanto de momento pinta como el mejor algoritmo de prediccion"
   ]
  },
  {
   "cell_type": "code",
   "execution_count": 76,
   "metadata": {},
   "outputs": [
    {
     "data": {
      "image/png": "[encoded data removed]",
      "text/plain": [
       "<Figure size 720x720 with 1 Axes>"
      ]
     },
     "metadata": {
      "needs_background": "light"
     },
     "output_type": "display_data"
    }
   ],
   "source": [
    "importances = rf.feature_importances_\n",
    "importances = importances / np.max(importances)\n",
    "\n",
    "indices = np.argsort(importances)[::-1]\n",
    "\n",
    "plt.figure(figsize=(10,10))\n",
    "plt.barh(range(X_train.shape[1]),importances[indices])\n",
    "plt.yticks(range(X_train.shape[1]),features[indices])\n",
    "plt.show()"
   ]
  },
  {
   "cell_type": "markdown",
   "metadata": {},
   "source": [
    "Vemos como las variables mas importantes concuerdan con las analizadas anteriormente, pasaremos Ahora analizaremos ungradient boosting classifier"
   ]
  },
  {
   "cell_type": "markdown",
   "metadata": {},
   "source": [
    "## Gradient boosting classifier"
   ]
  },
  {
   "cell_type": "code",
   "execution_count": 77,
   "metadata": {},
   "outputs": [
    {
     "name": "stdout",
     "output_type": "stream",
     "text": [
      "best mean cross-validation score: 0.858\n",
      "best parameters: {'learning_rate': 0.5, 'n_estimators': 100}\n"
     ]
    }
   ],
   "source": [
    "from sklearn.ensemble import GradientBoostingClassifier\n",
    "\n",
    "Niterations = [25,50,75,100,125,150,175,200,300]\n",
    "learningRate = [0.5,0.1,0.05,0.01]\n",
    "# max_depth = [2,3,4,5]\n",
    "# mantenemos max_depth estático: max_depth=2\n",
    "\n",
    "param_grid = {'n_estimators': Niterations,'learning_rate':learningRate}\n",
    "grid = GridSearchCV(GradientBoostingClassifier(random_state=0, max_depth=2), param_grid=param_grid, cv = 3)\n",
    "grid.fit(Xs_train, y_train)\n",
    "print(\"best mean cross-validation score: {:.3f}\".format(grid.best_score_))\n",
    "print(\"best parameters: {}\".format(grid.best_params_))\n",
    "\n",
    "y_pred = rf.predict(Xs_test)"
   ]
  },
  {
   "cell_type": "code",
   "execution_count": 78,
   "metadata": {},
   "outputs": [
    {
     "data": {
      "image/png": "[encoded data removed]",
      "text/plain": [
       "<Figure size 216x216 with 1 Axes>"
      ]
     },
     "metadata": {
      "needs_background": "light"
     },
     "output_type": "display_data"
    },
    {
     "name": "stdout",
     "output_type": "stream",
     "text": [
      "ACC:  0.8531283775669509\n",
      "SEN:  0.46655424395727935\n",
      "ESP:  0.9581551618814905\n",
      "PPV:  0.7518115942028986\n",
      "FSC:  0.5757891085674645\n"
     ]
    },
    {
     "data": {
      "image/png": "[encoded data removed]",
      "text/plain": [
       "<Figure size 432x288 with 1 Axes>"
      ]
     },
     "metadata": {
      "needs_background": "light"
     },
     "output_type": "display_data"
    }
   ],
   "source": [
    "rf = GradientBoostingClassifier(random_state=0, max_depth=2).fit(Xs_train,y_train)\n",
    "y_pred = rf.predict(Xs_test)\n",
    "\n",
    "confmat_test  = confusion_matrix(y_test, y_pred)\n",
    "plot_confusion_matrix(confmat_test)\n",
    "calcula_metricas(confmat_test)\n",
    "\n",
    "\n"
   ]
  },
  {
   "cell_type": "code",
   "execution_count": 79,
   "metadata": {},
   "outputs": [
    {
     "data": {
      "image/png": "[encoded data removed]",
      "text/plain": [
       "<Figure size 432x288 with 1 Axes>"
      ]
     },
     "metadata": {
      "needs_background": "light"
     },
     "output_type": "display_data"
    }
   ],
   "source": [
    "y_prob = dt.predict_proba(Xs_test)[:,1]\n",
    "\n",
    "ejex, ejey, _ = roc_curve(y_test, y_prob)\n",
    "roc_auc = auc(ejex, ejey)\n",
    "\n",
    "plt.figure()\n",
    "plt.plot(ejex, ejey, color='darkorange',lw=2, label='AUC = %0.2f' % roc_auc)\n",
    "\n",
    "plt.plot([0, 1], [0, 1], color=(0.6, 0.6, 0.6), linestyle='--')\n",
    "plt.plot([0, 0, 1],[0, 1, 1],lw=2, linestyle=':',color='black',label='Clasificador perfecto')\n",
    "\n",
    "plt.xlim([-0.05, 1.05])\n",
    "plt.ylim([-0.05, 1.05])\n",
    "\n",
    "plt.xlabel('FPR (1-ESP)')\n",
    "plt.ylabel('SEN')\n",
    "plt.legend(loc=\"lower right\")\n",
    "plt.show()"
   ]
  },
  {
   "cell_type": "code",
   "execution_count": 80,
   "metadata": {},
   "outputs": [
    {
     "data": {
      "image/png": "[encoded data removed]",
      "text/plain": [
       "<Figure size 432x288 with 1 Axes>"
      ]
     },
     "metadata": {
      "needs_background": "light"
     },
     "output_type": "display_data"
    }
   ],
   "source": [
    "idx_0 = (y_test==0)\n",
    "idx_1 = (y_test==1)\n",
    "\n",
    "# your code here\n",
    "plt.hist(y_prob[idx_0], density = 1, label = 'y=0')\n",
    "plt.hist(y_prob[idx_1], density = 1, facecolor = 'r',alpha=0.6, label = 'y=1')\n",
    "plt.legend(loc=1)\n",
    "plt.show()"
   ]
  },
  {
   "cell_type": "code",
   "execution_count": 81,
   "metadata": {},
   "outputs": [
    {
     "data": {
      "image/png": "[encoded data removed]",
      "text/plain": [
       "<Figure size 720x720 with 1 Axes>"
      ]
     },
     "metadata": {
      "needs_background": "light"
     },
     "output_type": "display_data"
    }
   ],
   "source": [
    "importances = rf.feature_importances_\n",
    "importances = importances / np.max(importances)\n",
    "\n",
    "indices = np.argsort(importances)[::-1]\n",
    "\n",
    "plt.figure(figsize=(10,10))\n",
    "plt.barh(range(X_train.shape[1]),importances[indices])\n",
    "plt.yticks(range(X_train.shape[1]),features[indices])\n",
    "plt.show()"
   ]
  },
  {
   "cell_type": "markdown",
   "metadata": {},
   "source": [
    "Vemos como este clasificador funciona muy parecido al anterior, pero hemos vuelto a perder potencia en SEN. Aunque si comparamos las variables mas importantes en este caso nos salen más variables. Por tanto de momento creo que me quedaré con el random forest.\n",
    "\n",
    "Pasemos a nalizar ahora un SVM \n",
    "\n"
   ]
  },
  {
   "cell_type": "markdown",
   "metadata": {},
   "source": [
    "## SVC"
   ]
  },
  {
   "cell_type": "code",
   "execution_count": null,
   "metadata": {},
   "outputs": [],
   "source": [
    "from sklearn.svm import SVC\n",
    "from sklearn.metrics import accuracy_score\n",
    "\n",
    "# Paso 2: Búsqueda de parámtros libres\n",
    "vectorC = np.logspace(-1, 3, 5)\n",
    "vectorG = np.logspace(-9, -1, 5)\n",
    "\n",
    "param_grid = {'C': vectorC, 'gamma':vectorG}\n",
    "\n",
    "grid = GridSearchCV(SVC(kernel='rbf'), scoring = 'accuracy', param_grid = param_grid, cv = 3)\n",
    "grid.fit(Xs_train, y_train)\n",
    "######"
   ]
  },
  {
   "cell_type": "code",
   "execution_count": null,
   "metadata": {},
   "outputs": [],
   "source": [
    "print(\"best mean cross-validation score: {:.3f}\".format(grid.best_score_))\n",
    "print(\"best parameters: {}\".format(grid.best_params_))\n",
    "\n",
    "# Mostramos prestaciones en CV\n",
    "scores = grid.cv_results_['mean_test_score'].reshape(len(vectorC),len(vectorG))\n",
    "\n",
    "plt.figure(figsize=(10,6))\n",
    "plt.imshow(scores, interpolation='nearest', vmin= 0.6, vmax=0.8)\n",
    "plt.xlabel('log(gamma)')\n",
    "plt.ylabel('log(C)')\n",
    "plt.colorbar()\n",
    "plt.xticks(np.arange(len(vectorG)), np.log10(vectorG), rotation=90)\n",
    "plt.yticks(np.arange(len(vectorC)), np.log10(vectorC))\n",
    "plt.title('5-fold accuracy')\n",
    "plt.show()"
   ]
  },
  {
   "cell_type": "code",
   "execution_count": null,
   "metadata": {},
   "outputs": [],
   "source": [
    "# Paso 3\n",
    "Copt = grid.best_params_['C']\n",
    "Gopt = grid.best_params_['gamma']\n",
    "\n",
    "svm = SVC(kernel='rbf',gamma = Gopt, C = Copt).fit(Xs_train,y_train)\n",
    "\n",
    "print('Acc (Train): %0.2f'%svm.score(Xs_train,y_train))\n",
    "print('Acc (TEST): %0.2f'%svm.score(Xs_test,y_test))"
   ]
  },
  {
   "cell_type": "code",
   "execution_count": null,
   "metadata": {},
   "outputs": [],
   "source": [
    "from sklearn.model_selection import StratifiedKFold\n",
    "from sklearn.feature_selection import RFECV\n",
    "\n",
    "svc = SVC(kernel='linear') # ¡sólo funciona con Kernel Lineal!\n",
    "\n",
    "rfecv = RFECV(estimator=svc, step=1, cv=5, scoring='accuracy')\n",
    "rfecv.fit(Xs_train, y_train)\n",
    "\n",
    "plt.figure()\n",
    "plt.xlabel(\"# variables\")\n",
    "plt.ylabel(\"5-fold ACC\")\n",
    "plt.plot(range(1, len(rfecv.grid_scores_) + 1), rfecv.grid_scores_, '-o')\n",
    "plt.show()"
   ]
  },
  {
   "cell_type": "code",
   "execution_count": null,
   "metadata": {},
   "outputs": [],
   "source": [
    "print('Variables seleccionadas: ',[f for f in features[rfecv.support_]] )\n",
    "print('Acc (TEST): %0.2f'%rfecv.score(Xs_test,y_test))\n"
   ]
  },
  {
   "cell_type": "code",
   "execution_count": null,
   "metadata": {},
   "outputs": [],
   "source": [
    "from sklearn.feature_selection import RFE\n",
    "\n",
    "rfe = RFE(estimator=svc, step=1, n_features_to_select= 4).fit(Xs_train,y_train)\n",
    "print('Variables seleccionadas: ',[f for f in features[rfe.support_]] )\n",
    "\n",
    "print('Acc (TEST): %0.2f'%rfe.score(Xs_test,y_test))"
   ]
  },
  {
   "cell_type": "code",
   "execution_count": null,
   "metadata": {},
   "outputs": [],
   "source": [
    "y_pred = rfecv.predict(Xs_test)\n",
    "\n",
    "confmat_test  = confusion_matrix(y_test, y_pred)\n",
    "plot_confusion_matrix(confmat_test)\n",
    "calcula_metricas(confmat_test)"
   ]
  },
  {
   "cell_type": "code",
   "execution_count": null,
   "metadata": {},
   "outputs": [],
   "source": [
    "idx_0 = (y_test==0)\n",
    "idx_1 = (y_test==1)\n",
    "\n",
    "# your code here\n",
    "plt.hist(y_prob[idx_0], density = 1, label = 'y=0')\n",
    "plt.hist(y_prob[idx_1], density = 1, facecolor = 'r',alpha=0.6, label = 'y=1')\n",
    "plt.legend(loc=1)\n",
    "plt.show()"
   ]
  },
  {
   "cell_type": "code",
   "execution_count": null,
   "metadata": {},
   "outputs": [],
   "source": [
    "from sklearn.metrics import roc_curve, auc\n",
    "\n",
    "ejex, ejey, _ = roc_curve(y_test, y_prob)\n",
    "roc_auc = auc(ejex, ejey)\n",
    "\n",
    "plt.figure()\n",
    "plt.plot(ejex, ejey, color='darkorange',lw=2, label='AUC = %0.2f' % roc_auc)\n",
    "\n",
    "plt.plot([0, 1], [0, 1], color=(0.6, 0.6, 0.6), linestyle='--')\n",
    "plt.plot([0, 0, 1],[0, 1, 1],lw=2, linestyle=':',color='black',label='Clasificador perfecto')\n",
    "\n",
    "plt.xlim([-0.05, 1.05])\n",
    "plt.ylim([-0.05, 1.05])\n",
    "\n",
    "plt.xlabel('FPR (1-ESP)')\n",
    "plt.ylabel('SEN')\n",
    "plt.legend(loc=\"lower right\")\n",
    "plt.show()"
   ]
  },
  {
   "cell_type": "code",
   "execution_count": null,
   "metadata": {},
   "outputs": [],
   "source": []
  },
  {
   "cell_type": "code",
   "execution_count": null,
   "metadata": {},
   "outputs": [],
   "source": []
  },
  {
   "cell_type": "code",
   "execution_count": null,
   "metadata": {},
   "outputs": [],
   "source": []
  },
  {
   "cell_type": "markdown",
   "metadata": {},
   "source": [
    "Una vez analizadas las mejores variables para nuestro modelo y encontrado el mejor algoritmo de prediccion, pasemos a usarlo en el conjunto de train"
   ]
  },
  {
   "cell_type": "code",
   "execution_count": 82,
   "metadata": {},
   "outputs": [
    {
     "data": {
      "text/html": [
       "<div>\n",
       "<style scoped>\n",
       "    .dataframe tbody tr th:only-of-type {\n",
       "        vertical-align: middle;\n",
       "    }\n",
       "\n",
       "    .dataframe tbody tr th {\n",
       "        vertical-align: top;\n",
       "    }\n",
       "\n",
       "    .dataframe thead th {\n",
       "        text-align: right;\n",
       "    }\n",
       "</style>\n",
       "<table border=\"1\" class=\"dataframe\">\n",
       "  <thead>\n",
       "    <tr style=\"text-align: right;\">\n",
       "      <th></th>\n",
       "      <th>id</th>\n",
       "      <th>age</th>\n",
       "      <th>workclass</th>\n",
       "      <th>education_level</th>\n",
       "      <th>education-num</th>\n",
       "      <th>marital-status</th>\n",
       "      <th>occupation</th>\n",
       "      <th>relationship</th>\n",
       "      <th>race</th>\n",
       "      <th>sex</th>\n",
       "      <th>capital-gain</th>\n",
       "      <th>capital-loss</th>\n",
       "      <th>hours-per-week</th>\n",
       "      <th>native-country</th>\n",
       "    </tr>\n",
       "  </thead>\n",
       "  <tbody>\n",
       "    <tr>\n",
       "      <th>0</th>\n",
       "      <td>0</td>\n",
       "      <td>28</td>\n",
       "      <td>2</td>\n",
       "      <td>11</td>\n",
       "      <td>9.0</td>\n",
       "      <td>4</td>\n",
       "      <td>5</td>\n",
       "      <td>3</td>\n",
       "      <td>2</td>\n",
       "      <td>0</td>\n",
       "      <td>0.0</td>\n",
       "      <td>0.0</td>\n",
       "      <td>40.0</td>\n",
       "      <td>37</td>\n",
       "    </tr>\n",
       "    <tr>\n",
       "      <th>1</th>\n",
       "      <td>1</td>\n",
       "      <td>35</td>\n",
       "      <td>2</td>\n",
       "      <td>11</td>\n",
       "      <td>9.0</td>\n",
       "      <td>5</td>\n",
       "      <td>9</td>\n",
       "      <td>2</td>\n",
       "      <td>2</td>\n",
       "      <td>0</td>\n",
       "      <td>0.0</td>\n",
       "      <td>0.0</td>\n",
       "      <td>40.0</td>\n",
       "      <td>37</td>\n",
       "    </tr>\n",
       "    <tr>\n",
       "      <th>2</th>\n",
       "      <td>2</td>\n",
       "      <td>33</td>\n",
       "      <td>2</td>\n",
       "      <td>11</td>\n",
       "      <td>9.0</td>\n",
       "      <td>2</td>\n",
       "      <td>2</td>\n",
       "      <td>0</td>\n",
       "      <td>4</td>\n",
       "      <td>1</td>\n",
       "      <td>0.0</td>\n",
       "      <td>0.0</td>\n",
       "      <td>30.0</td>\n",
       "      <td>37</td>\n",
       "    </tr>\n",
       "    <tr>\n",
       "      <th>3</th>\n",
       "      <td>3</td>\n",
       "      <td>18</td>\n",
       "      <td>2</td>\n",
       "      <td>11</td>\n",
       "      <td>9.0</td>\n",
       "      <td>4</td>\n",
       "      <td>11</td>\n",
       "      <td>1</td>\n",
       "      <td>4</td>\n",
       "      <td>1</td>\n",
       "      <td>0.0</td>\n",
       "      <td>0.0</td>\n",
       "      <td>30.0</td>\n",
       "      <td>37</td>\n",
       "    </tr>\n",
       "    <tr>\n",
       "      <th>4</th>\n",
       "      <td>4</td>\n",
       "      <td>53</td>\n",
       "      <td>2</td>\n",
       "      <td>8</td>\n",
       "      <td>11.0</td>\n",
       "      <td>2</td>\n",
       "      <td>3</td>\n",
       "      <td>0</td>\n",
       "      <td>4</td>\n",
       "      <td>1</td>\n",
       "      <td>0.0</td>\n",
       "      <td>0.0</td>\n",
       "      <td>40.0</td>\n",
       "      <td>37</td>\n",
       "    </tr>\n",
       "  </tbody>\n",
       "</table>\n",
       "</div>"
      ],
      "text/plain": [
       "   id  age  workclass  education_level  education-num  marital-status  \\\n",
       "0   0   28          2               11            9.0               4   \n",
       "1   1   35          2               11            9.0               5   \n",
       "2   2   33          2               11            9.0               2   \n",
       "3   3   18          2               11            9.0               4   \n",
       "4   4   53          2                8           11.0               2   \n",
       "\n",
       "   occupation  relationship  race  sex  capital-gain  capital-loss  \\\n",
       "0           5             3     2    0           0.0           0.0   \n",
       "1           9             2     2    0           0.0           0.0   \n",
       "2           2             0     4    1           0.0           0.0   \n",
       "3          11             1     4    1           0.0           0.0   \n",
       "4           3             0     4    1           0.0           0.0   \n",
       "\n",
       "   hours-per-week  native-country  \n",
       "0            40.0              37  \n",
       "1            40.0              37  \n",
       "2            30.0              37  \n",
       "3            30.0              37  \n",
       "4            40.0              37  "
      ]
     },
     "execution_count": 82,
     "metadata": {},
     "output_type": "execute_result"
    }
   ],
   "source": [
    "\n",
    "census_test = pd.read_csv(\"census_test.csv\")\n",
    "\n",
    "census_test.head(5)\n",
    "\n",
    "from sklearn import preprocessing\n",
    "le = preprocessing.LabelEncoder()\n",
    "\n",
    "census_test_copy = census_test\n",
    "\n",
    "le.fit(census_test_copy['workclass'])\n",
    "\n",
    "census_test_copy['workclass'] = le.transform(census_test_copy['workclass'])\n",
    "\n",
    "le.fit(census_test_copy['education_level'])\n",
    "\n",
    "census_test_copy['education_level'] = le.transform(census_test_copy['education_level'])\n",
    "\n",
    "le.fit(census_test_copy['marital-status'])\n",
    "\n",
    "census_test_copy['marital-status'] = le.transform(census_test_copy['marital-status'])\n",
    "\n",
    "le.fit(census_test_copy['occupation'])\n",
    "\n",
    "census_test_copy['occupation'] = le.transform(census_test_copy['occupation'])\n",
    "\n",
    "le.fit(census_test_copy['relationship'])\n",
    "\n",
    "census_test_copy['relationship'] = le.transform(census_test_copy['relationship'])\n",
    "\n",
    "le.fit(census_test_copy['race'])\n",
    "\n",
    "census_test_copy['race'] = le.transform(census_test_copy['race'])\n",
    "\n",
    "le.fit(census_test_copy['sex'])\n",
    "\n",
    "census_test_copy['sex'] = le.transform(census_test_copy['sex'])\n",
    "\n",
    "le.fit(census_test_copy['native-country'])\n",
    "\n",
    "census_test_copy['native-country'] = le.transform(census_test_copy['native-country'])\n",
    "census_test_copy.head(5)"
   ]
  },
  {
   "cell_type": "code",
   "execution_count": 83,
   "metadata": {},
   "outputs": [
    {
     "data": {
      "text/html": [
       "<div>\n",
       "<style scoped>\n",
       "    .dataframe tbody tr th:only-of-type {\n",
       "        vertical-align: middle;\n",
       "    }\n",
       "\n",
       "    .dataframe tbody tr th {\n",
       "        vertical-align: top;\n",
       "    }\n",
       "\n",
       "    .dataframe thead th {\n",
       "        text-align: right;\n",
       "    }\n",
       "</style>\n",
       "<table border=\"1\" class=\"dataframe\">\n",
       "  <thead>\n",
       "    <tr style=\"text-align: right;\">\n",
       "      <th></th>\n",
       "      <th>id</th>\n",
       "      <th>age</th>\n",
       "      <th>workclass</th>\n",
       "      <th>education_level</th>\n",
       "      <th>education-num</th>\n",
       "      <th>marital-status</th>\n",
       "      <th>occupation</th>\n",
       "      <th>relationship</th>\n",
       "      <th>race</th>\n",
       "      <th>sex</th>\n",
       "      <th>capital-gain</th>\n",
       "      <th>capital-loss</th>\n",
       "      <th>hours-per-week</th>\n",
       "      <th>native-country</th>\n",
       "    </tr>\n",
       "  </thead>\n",
       "  <tbody>\n",
       "    <tr>\n",
       "      <th>0</th>\n",
       "      <td>0</td>\n",
       "      <td>28</td>\n",
       "      <td>2</td>\n",
       "      <td>11</td>\n",
       "      <td>9.0</td>\n",
       "      <td>4</td>\n",
       "      <td>5</td>\n",
       "      <td>3</td>\n",
       "      <td>2</td>\n",
       "      <td>0</td>\n",
       "      <td>0.0</td>\n",
       "      <td>0.0</td>\n",
       "      <td>40.0</td>\n",
       "      <td>37</td>\n",
       "    </tr>\n",
       "    <tr>\n",
       "      <th>1</th>\n",
       "      <td>1</td>\n",
       "      <td>35</td>\n",
       "      <td>2</td>\n",
       "      <td>11</td>\n",
       "      <td>9.0</td>\n",
       "      <td>5</td>\n",
       "      <td>9</td>\n",
       "      <td>2</td>\n",
       "      <td>2</td>\n",
       "      <td>0</td>\n",
       "      <td>0.0</td>\n",
       "      <td>0.0</td>\n",
       "      <td>40.0</td>\n",
       "      <td>37</td>\n",
       "    </tr>\n",
       "    <tr>\n",
       "      <th>2</th>\n",
       "      <td>2</td>\n",
       "      <td>33</td>\n",
       "      <td>2</td>\n",
       "      <td>11</td>\n",
       "      <td>9.0</td>\n",
       "      <td>2</td>\n",
       "      <td>2</td>\n",
       "      <td>0</td>\n",
       "      <td>4</td>\n",
       "      <td>1</td>\n",
       "      <td>0.0</td>\n",
       "      <td>0.0</td>\n",
       "      <td>30.0</td>\n",
       "      <td>37</td>\n",
       "    </tr>\n",
       "    <tr>\n",
       "      <th>3</th>\n",
       "      <td>3</td>\n",
       "      <td>18</td>\n",
       "      <td>2</td>\n",
       "      <td>11</td>\n",
       "      <td>9.0</td>\n",
       "      <td>4</td>\n",
       "      <td>11</td>\n",
       "      <td>1</td>\n",
       "      <td>4</td>\n",
       "      <td>1</td>\n",
       "      <td>0.0</td>\n",
       "      <td>0.0</td>\n",
       "      <td>30.0</td>\n",
       "      <td>37</td>\n",
       "    </tr>\n",
       "    <tr>\n",
       "      <th>4</th>\n",
       "      <td>4</td>\n",
       "      <td>53</td>\n",
       "      <td>2</td>\n",
       "      <td>8</td>\n",
       "      <td>11.0</td>\n",
       "      <td>2</td>\n",
       "      <td>3</td>\n",
       "      <td>0</td>\n",
       "      <td>4</td>\n",
       "      <td>1</td>\n",
       "      <td>0.0</td>\n",
       "      <td>0.0</td>\n",
       "      <td>40.0</td>\n",
       "      <td>37</td>\n",
       "    </tr>\n",
       "    <tr>\n",
       "      <th>5</th>\n",
       "      <td>5</td>\n",
       "      <td>37</td>\n",
       "      <td>2</td>\n",
       "      <td>12</td>\n",
       "      <td>14.0</td>\n",
       "      <td>2</td>\n",
       "      <td>3</td>\n",
       "      <td>0</td>\n",
       "      <td>4</td>\n",
       "      <td>1</td>\n",
       "      <td>0.0</td>\n",
       "      <td>1977.0</td>\n",
       "      <td>40.0</td>\n",
       "      <td>37</td>\n",
       "    </tr>\n",
       "    <tr>\n",
       "      <th>6</th>\n",
       "      <td>6</td>\n",
       "      <td>41</td>\n",
       "      <td>4</td>\n",
       "      <td>11</td>\n",
       "      <td>9.0</td>\n",
       "      <td>2</td>\n",
       "      <td>3</td>\n",
       "      <td>0</td>\n",
       "      <td>4</td>\n",
       "      <td>1</td>\n",
       "      <td>0.0</td>\n",
       "      <td>0.0</td>\n",
       "      <td>50.0</td>\n",
       "      <td>37</td>\n",
       "    </tr>\n",
       "    <tr>\n",
       "      <th>7</th>\n",
       "      <td>7</td>\n",
       "      <td>41</td>\n",
       "      <td>2</td>\n",
       "      <td>15</td>\n",
       "      <td>10.0</td>\n",
       "      <td>2</td>\n",
       "      <td>2</td>\n",
       "      <td>0</td>\n",
       "      <td>2</td>\n",
       "      <td>1</td>\n",
       "      <td>0.0</td>\n",
       "      <td>0.0</td>\n",
       "      <td>40.0</td>\n",
       "      <td>37</td>\n",
       "    </tr>\n",
       "    <tr>\n",
       "      <th>8</th>\n",
       "      <td>8</td>\n",
       "      <td>76</td>\n",
       "      <td>2</td>\n",
       "      <td>14</td>\n",
       "      <td>15.0</td>\n",
       "      <td>2</td>\n",
       "      <td>9</td>\n",
       "      <td>0</td>\n",
       "      <td>4</td>\n",
       "      <td>1</td>\n",
       "      <td>9386.0</td>\n",
       "      <td>0.0</td>\n",
       "      <td>25.0</td>\n",
       "      <td>37</td>\n",
       "    </tr>\n",
       "    <tr>\n",
       "      <th>9</th>\n",
       "      <td>9</td>\n",
       "      <td>38</td>\n",
       "      <td>0</td>\n",
       "      <td>15</td>\n",
       "      <td>10.0</td>\n",
       "      <td>4</td>\n",
       "      <td>0</td>\n",
       "      <td>1</td>\n",
       "      <td>4</td>\n",
       "      <td>0</td>\n",
       "      <td>0.0</td>\n",
       "      <td>1980.0</td>\n",
       "      <td>40.0</td>\n",
       "      <td>37</td>\n",
       "    </tr>\n",
       "  </tbody>\n",
       "</table>\n",
       "</div>"
      ],
      "text/plain": [
       "   id  age  workclass  education_level  education-num  marital-status  \\\n",
       "0   0   28          2               11            9.0               4   \n",
       "1   1   35          2               11            9.0               5   \n",
       "2   2   33          2               11            9.0               2   \n",
       "3   3   18          2               11            9.0               4   \n",
       "4   4   53          2                8           11.0               2   \n",
       "5   5   37          2               12           14.0               2   \n",
       "6   6   41          4               11            9.0               2   \n",
       "7   7   41          2               15           10.0               2   \n",
       "8   8   76          2               14           15.0               2   \n",
       "9   9   38          0               15           10.0               4   \n",
       "\n",
       "   occupation  relationship  race  sex  capital-gain  capital-loss  \\\n",
       "0           5             3     2    0           0.0           0.0   \n",
       "1           9             2     2    0           0.0           0.0   \n",
       "2           2             0     4    1           0.0           0.0   \n",
       "3          11             1     4    1           0.0           0.0   \n",
       "4           3             0     4    1           0.0           0.0   \n",
       "5           3             0     4    1           0.0        1977.0   \n",
       "6           3             0     4    1           0.0           0.0   \n",
       "7           2             0     2    1           0.0           0.0   \n",
       "8           9             0     4    1        9386.0           0.0   \n",
       "9           0             1     4    0           0.0        1980.0   \n",
       "\n",
       "   hours-per-week  native-country  \n",
       "0            40.0              37  \n",
       "1            40.0              37  \n",
       "2            30.0              37  \n",
       "3            30.0              37  \n",
       "4            40.0              37  \n",
       "5            40.0              37  \n",
       "6            50.0              37  \n",
       "7            40.0              37  \n",
       "8            25.0              37  \n",
       "9            40.0              37  "
      ]
     },
     "execution_count": 83,
     "metadata": {},
     "output_type": "execute_result"
    }
   ],
   "source": [
    "census_test_copy_cp = census_test_copy\n",
    "census_test_copy_cp.head(10)"
   ]
  },
  {
   "cell_type": "code",
   "execution_count": 84,
   "metadata": {},
   "outputs": [
    {
     "data": {
      "text/html": [
       "<div>\n",
       "<style scoped>\n",
       "    .dataframe tbody tr th:only-of-type {\n",
       "        vertical-align: middle;\n",
       "    }\n",
       "\n",
       "    .dataframe tbody tr th {\n",
       "        vertical-align: top;\n",
       "    }\n",
       "\n",
       "    .dataframe thead th {\n",
       "        text-align: right;\n",
       "    }\n",
       "</style>\n",
       "<table border=\"1\" class=\"dataframe\">\n",
       "  <thead>\n",
       "    <tr style=\"text-align: right;\">\n",
       "      <th></th>\n",
       "      <th>age</th>\n",
       "      <th>workclass</th>\n",
       "      <th>education_level</th>\n",
       "      <th>education-num</th>\n",
       "      <th>marital-status</th>\n",
       "      <th>occupation</th>\n",
       "      <th>relationship</th>\n",
       "      <th>race</th>\n",
       "      <th>sex</th>\n",
       "      <th>capital-gain</th>\n",
       "      <th>capital-loss</th>\n",
       "      <th>hours-per-week</th>\n",
       "      <th>native-country</th>\n",
       "      <th>income</th>\n",
       "    </tr>\n",
       "  </thead>\n",
       "  <tbody>\n",
       "    <tr>\n",
       "      <th>0</th>\n",
       "      <td>49</td>\n",
       "      <td>2</td>\n",
       "      <td>12</td>\n",
       "      <td>14.0</td>\n",
       "      <td>0</td>\n",
       "      <td>11</td>\n",
       "      <td>4</td>\n",
       "      <td>3</td>\n",
       "      <td>0</td>\n",
       "      <td>0.0</td>\n",
       "      <td>0.0</td>\n",
       "      <td>20.0</td>\n",
       "      <td>28</td>\n",
       "      <td>0</td>\n",
       "    </tr>\n",
       "    <tr>\n",
       "      <th>1</th>\n",
       "      <td>43</td>\n",
       "      <td>2</td>\n",
       "      <td>7</td>\n",
       "      <td>12.0</td>\n",
       "      <td>0</td>\n",
       "      <td>2</td>\n",
       "      <td>1</td>\n",
       "      <td>4</td>\n",
       "      <td>1</td>\n",
       "      <td>0.0</td>\n",
       "      <td>0.0</td>\n",
       "      <td>40.0</td>\n",
       "      <td>38</td>\n",
       "      <td>0</td>\n",
       "    </tr>\n",
       "    <tr>\n",
       "      <th>4</th>\n",
       "      <td>32</td>\n",
       "      <td>2</td>\n",
       "      <td>15</td>\n",
       "      <td>10.0</td>\n",
       "      <td>0</td>\n",
       "      <td>5</td>\n",
       "      <td>4</td>\n",
       "      <td>2</td>\n",
       "      <td>1</td>\n",
       "      <td>0.0</td>\n",
       "      <td>0.0</td>\n",
       "      <td>40.0</td>\n",
       "      <td>26</td>\n",
       "      <td>0</td>\n",
       "    </tr>\n",
       "    <tr>\n",
       "      <th>5</th>\n",
       "      <td>29</td>\n",
       "      <td>0</td>\n",
       "      <td>15</td>\n",
       "      <td>10.0</td>\n",
       "      <td>3</td>\n",
       "      <td>0</td>\n",
       "      <td>3</td>\n",
       "      <td>4</td>\n",
       "      <td>0</td>\n",
       "      <td>0.0</td>\n",
       "      <td>0.0</td>\n",
       "      <td>40.0</td>\n",
       "      <td>38</td>\n",
       "      <td>0</td>\n",
       "    </tr>\n",
       "    <tr>\n",
       "      <th>6</th>\n",
       "      <td>51</td>\n",
       "      <td>2</td>\n",
       "      <td>15</td>\n",
       "      <td>10.0</td>\n",
       "      <td>4</td>\n",
       "      <td>0</td>\n",
       "      <td>3</td>\n",
       "      <td>4</td>\n",
       "      <td>0</td>\n",
       "      <td>0.0</td>\n",
       "      <td>0.0</td>\n",
       "      <td>40.0</td>\n",
       "      <td>38</td>\n",
       "      <td>0</td>\n",
       "    </tr>\n",
       "    <tr>\n",
       "      <th>7</th>\n",
       "      <td>33</td>\n",
       "      <td>3</td>\n",
       "      <td>11</td>\n",
       "      <td>9.0</td>\n",
       "      <td>2</td>\n",
       "      <td>3</td>\n",
       "      <td>0</td>\n",
       "      <td>4</td>\n",
       "      <td>1</td>\n",
       "      <td>0.0</td>\n",
       "      <td>0.0</td>\n",
       "      <td>50.0</td>\n",
       "      <td>38</td>\n",
       "      <td>0</td>\n",
       "    </tr>\n",
       "    <tr>\n",
       "      <th>8</th>\n",
       "      <td>35</td>\n",
       "      <td>1</td>\n",
       "      <td>12</td>\n",
       "      <td>14.0</td>\n",
       "      <td>2</td>\n",
       "      <td>9</td>\n",
       "      <td>0</td>\n",
       "      <td>4</td>\n",
       "      <td>1</td>\n",
       "      <td>0.0</td>\n",
       "      <td>0.0</td>\n",
       "      <td>40.0</td>\n",
       "      <td>38</td>\n",
       "      <td>0</td>\n",
       "    </tr>\n",
       "    <tr>\n",
       "      <th>9</th>\n",
       "      <td>39</td>\n",
       "      <td>2</td>\n",
       "      <td>15</td>\n",
       "      <td>10.0</td>\n",
       "      <td>2</td>\n",
       "      <td>11</td>\n",
       "      <td>0</td>\n",
       "      <td>4</td>\n",
       "      <td>1</td>\n",
       "      <td>0.0</td>\n",
       "      <td>0.0</td>\n",
       "      <td>40.0</td>\n",
       "      <td>38</td>\n",
       "      <td>0</td>\n",
       "    </tr>\n",
       "    <tr>\n",
       "      <th>10</th>\n",
       "      <td>49</td>\n",
       "      <td>2</td>\n",
       "      <td>15</td>\n",
       "      <td>10.0</td>\n",
       "      <td>2</td>\n",
       "      <td>6</td>\n",
       "      <td>0</td>\n",
       "      <td>4</td>\n",
       "      <td>1</td>\n",
       "      <td>0.0</td>\n",
       "      <td>0.0</td>\n",
       "      <td>50.0</td>\n",
       "      <td>38</td>\n",
       "      <td>1</td>\n",
       "    </tr>\n",
       "    <tr>\n",
       "      <th>11</th>\n",
       "      <td>44</td>\n",
       "      <td>2</td>\n",
       "      <td>9</td>\n",
       "      <td>13.0</td>\n",
       "      <td>2</td>\n",
       "      <td>2</td>\n",
       "      <td>0</td>\n",
       "      <td>4</td>\n",
       "      <td>1</td>\n",
       "      <td>0.0</td>\n",
       "      <td>0.0</td>\n",
       "      <td>40.0</td>\n",
       "      <td>38</td>\n",
       "      <td>1</td>\n",
       "    </tr>\n",
       "  </tbody>\n",
       "</table>\n",
       "</div>"
      ],
      "text/plain": [
       "    age  workclass  education_level  education-num  marital-status  \\\n",
       "0    49          2               12           14.0               0   \n",
       "1    43          2                7           12.0               0   \n",
       "4    32          2               15           10.0               0   \n",
       "5    29          0               15           10.0               3   \n",
       "6    51          2               15           10.0               4   \n",
       "7    33          3               11            9.0               2   \n",
       "8    35          1               12           14.0               2   \n",
       "9    39          2               15           10.0               2   \n",
       "10   49          2               15           10.0               2   \n",
       "11   44          2                9           13.0               2   \n",
       "\n",
       "    occupation  relationship  race  sex  capital-gain  capital-loss  \\\n",
       "0           11             4     3    0           0.0           0.0   \n",
       "1            2             1     4    1           0.0           0.0   \n",
       "4            5             4     2    1           0.0           0.0   \n",
       "5            0             3     4    0           0.0           0.0   \n",
       "6            0             3     4    0           0.0           0.0   \n",
       "7            3             0     4    1           0.0           0.0   \n",
       "8            9             0     4    1           0.0           0.0   \n",
       "9           11             0     4    1           0.0           0.0   \n",
       "10           6             0     4    1           0.0           0.0   \n",
       "11           2             0     4    1           0.0           0.0   \n",
       "\n",
       "    hours-per-week  native-country  income  \n",
       "0             20.0              28       0  \n",
       "1             40.0              38       0  \n",
       "4             40.0              26       0  \n",
       "5             40.0              38       0  \n",
       "6             40.0              38       0  \n",
       "7             50.0              38       0  \n",
       "8             40.0              38       0  \n",
       "9             40.0              38       0  \n",
       "10            50.0              38       1  \n",
       "11            40.0              38       1  "
      ]
     },
     "execution_count": 84,
     "metadata": {},
     "output_type": "execute_result"
    }
   ],
   "source": [
    "census_train_copy_cp_2 = census_train_copy\n",
    "census_train_copy_cp_2.head(10)"
   ]
  },
  {
   "cell_type": "code",
   "execution_count": 111,
   "metadata": {},
   "outputs": [
    {
     "name": "stdout",
     "output_type": "stream",
     "text": [
      "    age  workclass  education_level  education-num  marital-status  \\\n",
      "0    49          2               12           14.0               0   \n",
      "1    43          2                7           12.0               0   \n",
      "4    32          2               15           10.0               0   \n",
      "5    29          0               15           10.0               3   \n",
      "6    51          2               15           10.0               4   \n",
      "7    33          3               11            9.0               2   \n",
      "8    35          1               12           14.0               2   \n",
      "9    39          2               15           10.0               2   \n",
      "10   49          2               15           10.0               2   \n",
      "11   44          2                9           13.0               2   \n",
      "\n",
      "    occupation  relationship  race  sex  capital-gain  capital-loss  \\\n",
      "0           11             4     3    0           0.0           0.0   \n",
      "1            2             1     4    1           0.0           0.0   \n",
      "4            5             4     2    1           0.0           0.0   \n",
      "5            0             3     4    0           0.0           0.0   \n",
      "6            0             3     4    0           0.0           0.0   \n",
      "7            3             0     4    1           0.0           0.0   \n",
      "8            9             0     4    1           0.0           0.0   \n",
      "9           11             0     4    1           0.0           0.0   \n",
      "10           6             0     4    1           0.0           0.0   \n",
      "11           2             0     4    1           0.0           0.0   \n",
      "\n",
      "    hours-per-week  native-country  income  \n",
      "0             20.0              28       0  \n",
      "1             40.0              38       0  \n",
      "4             40.0              26       0  \n",
      "5             40.0              38       0  \n",
      "6             40.0              38       0  \n",
      "7             50.0              38       0  \n",
      "8             40.0              38       0  \n",
      "9             40.0              38       0  \n",
      "10            50.0              38       1  \n",
      "11            40.0              38       1  \n",
      "(33308, 14)\n"
     ]
    }
   ],
   "source": [
    "print(census_train_copy_cp_2.head(10))\n",
    "print(census_train_copy_cp_2.shape)"
   ]
  },
  {
   "cell_type": "code",
   "execution_count": 85,
   "metadata": {},
   "outputs": [
    {
     "name": "stdout",
     "output_type": "stream",
     "text": [
      "Datos train:  (24981, 13)\n",
      "Datos test:   (8327, 13)\n",
      "Propocion train:0.214\n",
      "Propocion test: 0.214\n"
     ]
    }
   ],
   "source": [
    "from sklearn.model_selection import train_test_split\n",
    "from sklearn.preprocessing import StandardScaler\n",
    "\n",
    "# preparamos los datos\n",
    "census_train_copy_cp_clean_2 = census_train_copy_cp_2\n",
    "\n",
    "columns_to_drop = ['income']\n",
    "features = census_train_copy_cp_clean_2.columns.drop(columns_to_drop)\n",
    "\n",
    "X = census_train_copy_cp_clean_2[features].values\n",
    "y = census_train_copy_cp_clean_2['income'].values\n",
    "\n",
    "# PASO 1:\n",
    "X_train, X_test, y_train, y_test = train_test_split(X, y, test_size = 0.25, stratify = y, shuffle= True, random_state=0)\n",
    "\n",
    "scaler = StandardScaler().fit(X_train)\n",
    "Xs_train = scaler.transform(X_train)\n",
    "Xs_test  = scaler.transform(X_test)\n",
    "\n",
    "print('Datos train: ', Xs_train.shape)\n",
    "print('Datos test:  ', Xs_test.shape)\n",
    "\n",
    "print('Propocion train:%0.3f'%np.mean(y_train))\n",
    "print('Propocion test: %0.3f'%np.mean(y_test))"
   ]
  },
  {
   "cell_type": "code",
   "execution_count": 98,
   "metadata": {},
   "outputs": [
    {
     "name": "stdout",
     "output_type": "stream",
     "text": [
      "best mean cross-validation score: 0.809\n",
      "best parameters: {'max_depth': 14}\n"
     ]
    },
    {
     "data": {
      "image/png": "[encoded data removed]",
      "text/plain": [
       "<Figure size 432x288 with 1 Axes>"
      ]
     },
     "metadata": {
      "needs_background": "light"
     },
     "output_type": "display_data"
    }
   ],
   "source": [
    "from sklearn.ensemble import RandomForestClassifier\n",
    "\n",
    "# grid search\n",
    "maxDepth   = range(1,15)\n",
    "param_grid = {'max_depth': maxDepth}\n",
    "\n",
    "\n",
    "grid = GridSearchCV(RandomForestClassifier(random_state=0, \n",
    "                                           n_estimators = 300, \n",
    "                                           max_features = 'sqrt',\n",
    "                                           class_weight = 'balanced',\n",
    "                                           ), \n",
    "                    scoring='accuracy', # vosotros podéis probar a poner acc\n",
    "                    param_grid=param_grid, \n",
    "                    cv = 10)\n",
    "\n",
    "grid.fit(Xs_train, y_train)\n",
    "\n",
    "print(\"best mean cross-validation score: {:.3f}\".format(grid.best_score_))\n",
    "print(\"best parameters: {}\".format(grid.best_params_))\n",
    "\n",
    "scores = grid.cv_results_['mean_test_score']\n",
    "std_scores = grid.cv_results_['std_test_score']\n",
    "plt.errorbar(maxDepth,scores,yerr=std_scores, fmt='o-',ecolor='g')\n",
    "plt.xlabel('log(C)',fontsize=16)\n",
    "plt.ylabel('10-Fold F-score')\n",
    "plt.grid()\n",
    "plt.show()"
   ]
  },
  {
   "cell_type": "code",
   "execution_count": 99,
   "metadata": {},
   "outputs": [
    {
     "data": {
      "image/png": "[encoded data removed]",
      "text/plain": [
       "<Figure size 216x216 with 1 Axes>"
      ]
     },
     "metadata": {
      "needs_background": "light"
     },
     "output_type": "display_data"
    },
    {
     "name": "stdout",
     "output_type": "stream",
     "text": [
      "ACC:  0.8159000840638886\n",
      "SEN:  0.806070826306914\n",
      "ESP:  0.8185705558949298\n",
      "PPV:  0.5469107551487414\n",
      "FSC:  0.6516700749829584\n"
     ]
    },
    {
     "data": {
      "image/png": "[encoded data removed]",
      "text/plain": [
       "<Figure size 432x288 with 1 Axes>"
      ]
     },
     "metadata": {
      "needs_background": "light"
     },
     "output_type": "display_data"
    }
   ],
   "source": [
    "max_depth_opt = grid.best_params_['max_depth']\n",
    "\n",
    "rf = RandomForestClassifier(random_state=0, \n",
    "                            max_depth = max_depth_opt, \n",
    "                            n_estimators = 300, \n",
    "                            max_features = 'sqrt', \n",
    "                            class_weight = 'balanced').fit(Xs_train,y_train)\n",
    "y_pred = rf.predict(Xs_test)\n",
    "\n",
    "confmat_test  = confusion_matrix(y_test, y_pred)\n",
    "plot_confusion_matrix(confmat_test)\n",
    "calcula_metricas(confmat_test)"
   ]
  },
  {
   "cell_type": "code",
   "execution_count": 100,
   "metadata": {},
   "outputs": [
    {
     "data": {
      "image/png": "[encoded data removed]",
      "text/plain": [
       "<Figure size 432x288 with 1 Axes>"
      ]
     },
     "metadata": {
      "needs_background": "light"
     },
     "output_type": "display_data"
    }
   ],
   "source": [
    "idx_0 = (y_test==0)\n",
    "idx_1 = (y_test==1)\n",
    "\n",
    "# your code here\n",
    "plt.hist(y_prob[idx_0], density = 1, label = 'y=0')\n",
    "plt.hist(y_prob[idx_1], density = 1, facecolor = 'r',alpha=0.6, label = 'y=1')\n",
    "plt.legend(loc=1)\n",
    "plt.show()"
   ]
  },
  {
   "cell_type": "code",
   "execution_count": 101,
   "metadata": {},
   "outputs": [
    {
     "data": {
      "image/png": "[encoded data removed]",
      "text/plain": [
       "<Figure size 432x288 with 1 Axes>"
      ]
     },
     "metadata": {
      "needs_background": "light"
     },
     "output_type": "display_data"
    }
   ],
   "source": [
    "y_prob = rf.predict_proba(Xs_test)[:,1]\n",
    "\n",
    "ejex, ejey, _ = roc_curve(y_test, y_prob)\n",
    "roc_auc = auc(ejex, ejey)\n",
    "\n",
    "plt.figure()\n",
    "plt.plot(ejex, ejey, color='darkorange',lw=2, label='AUC = %0.2f' % roc_auc)\n",
    "\n",
    "plt.plot([0, 1], [0, 1], color=(0.6, 0.6, 0.6), linestyle='--')\n",
    "plt.plot([0, 0, 1],[0, 1, 1],lw=2, linestyle=':',color='black',label='Clasificador perfecto')\n",
    "\n",
    "plt.xlim([-0.05, 1.05])\n",
    "plt.ylim([-0.05, 1.05])\n",
    "\n",
    "plt.xlabel('FPR (1-ESP)')\n",
    "plt.ylabel('SEN')\n",
    "plt.legend(loc=\"lower right\")\n",
    "plt.show()"
   ]
  },
  {
   "cell_type": "code",
   "execution_count": 113,
   "metadata": {},
   "outputs": [
    {
     "name": "stdout",
     "output_type": "stream",
     "text": [
      "[1 1 1 ... 1 0 1]\n"
     ]
    }
   ],
   "source": [
    "census_test_copy_cp_2 = census_test_copy_cp\n",
    "\n",
    "census_test_copy_cp_2 = census_test_copy_cp_2.drop(['id'],axis=1)\n",
    "\n",
    "y_pred = rf.predict(census_test_copy_cp_2)\n",
    "\n",
    "print(y_pred)"
   ]
  },
  {
   "cell_type": "code",
   "execution_count": 114,
   "metadata": {},
   "outputs": [],
   "source": [
    "census_test_copy_cp_final = census_test_copy_cp\n",
    "census_test_copy_cp_final['target'] = y_pred\n",
    "census_test_copy_cp_final = census_test_copy_cp_final.drop(['age', 'education-num','marital-status','relationship','capital-gain','sex','hours-per-week'], axis = 1)\n",
    "census_test_copy_cp_final.to_csv('census_test_result.csv')"
   ]
  },
  {
   "cell_type": "code",
   "execution_count": 115,
   "metadata": {},
   "outputs": [
    {
     "data": {
      "text/plain": [
       "1    0.763074\n",
       "0    0.236926\n",
       "Name: target, dtype: float64"
      ]
     },
     "execution_count": 115,
     "metadata": {},
     "output_type": "execute_result"
    }
   ],
   "source": [
    "census_test_copy_cp_final['target'].value_counts() / census_test_copy_cp_final.shape[0]"
   ]
  },
  {
   "cell_type": "markdown",
   "metadata": {},
   "source": [
    "Como resumen final al final el f1 lo he cambiado a accuracy, he intentado quitarle el clas_weight balanced, porque el algoritmo de arbol deberia balancearse mejor, pero el SEM se reducir drásticamente"
   ]
  }
 ],
 "metadata": {
  "kernelspec": {
   "display_name": "Python 3",
   "language": "python",
   "name": "python3"
  },
  "language_info": {
   "codemirror_mode": {
    "name": "ipython",
    "version": 3
   },
   "file_extension": ".py",
   "mimetype": "text/x-python",
   "name": "python",
   "nbconvert_exporter": "python",
   "pygments_lexer": "ipython3",
   "version": "3.7.0"
  }
 },
 "nbformat": 4,
 "nbformat_minor": 2
}
